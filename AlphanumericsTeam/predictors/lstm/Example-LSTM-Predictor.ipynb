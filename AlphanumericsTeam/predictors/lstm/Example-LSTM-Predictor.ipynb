{
 "cells": [
  {
   "cell_type": "raw",
   "metadata": {},
   "source": [
    "# Copyright 2020 (c) Cognizant Digital Business, Evolutionary AI. All rights reserved. Issued under the Apache 2.0 License."
   ]
  },
  {
   "cell_type": "code",
   "execution_count": 1,
   "metadata": {},
   "outputs": [
    {
     "output_type": "stream",
     "name": "stdout",
     "text": [
      "{('Afghanistan', ''): 'AFG',\n ('Albania', ''): 'ALB',\n ('Algeria', ''): 'DZA',\n ('Andorra', ''): 'AND',\n ('Angola', ''): 'AGO',\n ('Argentina', ''): 'ARG',\n ('Aruba', ''): 'ABW',\n ('Australia', ''): 'AUS',\n ('Austria', ''): 'AUT',\n ('Azerbaijan', ''): 'AZE',\n ('Bahamas', ''): 'BHS',\n ('Bahrain', ''): 'BHR',\n ('Bangladesh', ''): 'BGD',\n ('Barbados', ''): 'BRB',\n ('Belarus', ''): 'BLR',\n ('Belgium', ''): 'BEL',\n ('Belize', ''): 'BLZ',\n ('Benin', ''): 'BEN',\n ('Bermuda', ''): 'BMU',\n ('Bhutan', ''): 'BTN',\n ('Bolivia', ''): 'BOL',\n ('Bosnia and Herzegovina', ''): 'BIH',\n ('Botswana', ''): 'BWA',\n ('Brazil', ''): 'BRA',\n ('Brunei', ''): 'BRN',\n ('Bulgaria', ''): 'BGR',\n ('Burkina Faso', ''): 'BFA',\n ('Burundi', ''): 'BDI',\n ('Cambodia', ''): 'KHM',\n ('Cameroon', ''): 'CMR',\n ('Canada', ''): 'CAN',\n ('Cape Verde', ''): 'CPV',\n ('Central African Republic', ''): 'CAF',\n ('Chad', ''): 'TCD',\n ('Chile', ''): 'CHL',\n ('China', ''): 'CHN',\n ('Colombia', ''): 'COL',\n ('Comoros', ''): 'COM',\n ('Congo', ''): 'COG',\n ('Costa Rica', ''): 'CRI',\n (\"Cote d'Ivoire\", ''): 'CIV',\n ('Croatia', ''): 'HRV',\n ('Cuba', ''): 'CUB',\n ('Cyprus', ''): 'CYP',\n ('Czech Republic', ''): 'CZE',\n ('Democratic Republic of Congo', ''): 'COD',\n ('Denmark', ''): 'DNK',\n ('Djibouti', ''): 'DJI',\n ('Dominica', ''): 'DMA',\n ('Dominican Republic', ''): 'DOM',\n ('Ecuador', ''): 'ECU',\n ('Egypt', ''): 'EGY',\n ('El Salvador', ''): 'SLV',\n ('Eritrea', ''): 'ERI',\n ('Estonia', ''): 'EST',\n ('Eswatini', ''): 'SWZ',\n ('Ethiopia', ''): 'ETH',\n ('Faeroe Islands', ''): 'FRO',\n ('Fiji', ''): 'FJI',\n ('Finland', ''): 'FIN',\n ('France', ''): 'FRA',\n ('Gabon', ''): 'GAB',\n ('Gambia', ''): 'GMB',\n ('Georgia', ''): 'GEO',\n ('Germany', ''): 'DEU',\n ('Ghana', ''): 'GHA',\n ('Greece', ''): 'GRC',\n ('Greenland', ''): 'GRL',\n ('Guam', ''): 'GUM',\n ('Guatemala', ''): 'GTM',\n ('Guinea', ''): 'GIN',\n ('Guyana', ''): 'GUY',\n ('Haiti', ''): 'HTI',\n ('Honduras', ''): 'HND',\n ('Hong Kong', ''): 'HKG',\n ('Hungary', ''): 'HUN',\n ('Iceland', ''): 'ISL',\n ('India', ''): 'IND',\n ('Indonesia', ''): 'IDN',\n ('Iran', ''): 'IRN',\n ('Iraq', ''): 'IRQ',\n ('Ireland', ''): 'IRL',\n ('Israel', ''): 'ISR',\n ('Italy', ''): 'ITA',\n ('Jamaica', ''): 'JAM',\n ('Japan', ''): 'JPN',\n ('Jordan', ''): 'JOR',\n ('Kazakhstan', ''): 'KAZ',\n ('Kenya', ''): 'KEN',\n ('Kosovo', ''): 'RKS',\n ('Kuwait', ''): 'KWT',\n ('Kyrgyz Republic', ''): 'KGZ',\n ('Laos', ''): 'LAO',\n ('Latvia', ''): 'LVA',\n ('Lebanon', ''): 'LBN',\n ('Lesotho', ''): 'LSO',\n ('Liberia', ''): 'LBR',\n ('Libya', ''): 'LBY',\n ('Lithuania', ''): 'LTU',\n ('Luxembourg', ''): 'LUX',\n ('Macao', ''): 'MAC',\n ('Madagascar', ''): 'MDG',\n ('Malawi', ''): 'MWI',\n ('Malaysia', ''): 'MYS',\n ('Mali', ''): 'MLI',\n ('Mauritania', ''): 'MRT',\n ('Mauritius', ''): 'MUS',\n ('Mexico', ''): 'MEX',\n ('Moldova', ''): 'MDA',\n ('Monaco', ''): 'MCO',\n ('Mongolia', ''): 'MNG',\n ('Morocco', ''): 'MAR',\n ('Mozambique', ''): 'MOZ',\n ('Myanmar', ''): 'MMR',\n ('Namibia', ''): 'NAM',\n ('Nepal', ''): 'NPL',\n ('Netherlands', ''): 'NLD',\n ('New Zealand', ''): 'NZL',\n ('Nicaragua', ''): 'NIC',\n ('Niger', ''): 'NER',\n ('Nigeria', ''): 'NGA',\n ('Norway', ''): 'NOR',\n ('Oman', ''): 'OMN',\n ('Pakistan', ''): 'PAK',\n ('Palestine', ''): 'PSE',\n ('Panama', ''): 'PAN',\n ('Papua New Guinea', ''): 'PNG',\n ('Paraguay', ''): 'PRY',\n ('Peru', ''): 'PER',\n ('Philippines', ''): 'PHL',\n ('Poland', ''): 'POL',\n ('Portugal', ''): 'PRT',\n ('Puerto Rico', ''): 'PRI',\n ('Qatar', ''): 'QAT',\n ('Romania', ''): 'ROU',\n ('Russia', ''): 'RUS',\n ('Rwanda', ''): 'RWA',\n ('San Marino', ''): 'SMR',\n ('Saudi Arabia', ''): 'SAU',\n ('Senegal', ''): 'SEN',\n ('Serbia', ''): 'SRB',\n ('Seychelles', ''): 'SYC',\n ('Sierra Leone', ''): 'SLE',\n ('Singapore', ''): 'SGP',\n ('Slovak Republic', ''): 'SVK',\n ('Slovenia', ''): 'SVN',\n ('Solomon Islands', ''): 'SLB',\n ('Somalia', ''): 'SOM',\n ('South Africa', ''): 'ZAF',\n ('South Korea', ''): 'KOR',\n ('South Sudan', ''): 'SSD',\n ('Spain', ''): 'ESP',\n ('Sri Lanka', ''): 'LKA',\n ('Sudan', ''): 'SDN',\n ('Suriname', ''): 'SUR',\n ('Sweden', ''): 'SWE',\n ('Switzerland', ''): 'CHE',\n ('Syria', ''): 'SYR',\n ('Taiwan', ''): 'TWN',\n ('Tajikistan', ''): 'TJK',\n ('Tanzania', ''): 'TZA',\n ('Thailand', ''): 'THA',\n ('Timor-Leste', ''): 'TLS',\n ('Togo', ''): 'TGO',\n ('Trinidad and Tobago', ''): 'TTO',\n ('Tunisia', ''): 'TUN',\n ('Turkey', ''): 'TUR',\n ('Uganda', ''): 'UGA',\n ('Ukraine', ''): 'UKR',\n ('United Arab Emirates', ''): 'ARE',\n ('United Kingdom', ''): 'GBR',\n ('United Kingdom', 'England'): 'UK_ENG',\n ('United Kingdom', 'Northern Ireland'): 'UK_NIR',\n ('United Kingdom', 'Scotland'): 'UK_SCO',\n ('United Kingdom', 'Wales'): 'UK_WAL',\n ('United States', ''): 'USA',\n ('United States', 'Alabama'): 'US_AL',\n ('United States', 'Alaska'): 'US_AK',\n ('United States', 'Arizona'): 'US_AZ',\n ('United States', 'Arkansas'): 'US_AR',\n ('United States', 'California'): 'US_CA',\n ('United States', 'Colorado'): 'US_CO',\n ('United States', 'Connecticut'): 'US_CT',\n ('United States', 'Delaware'): 'US_DE',\n ('United States', 'Florida'): 'US_FL',\n ('United States', 'Georgia'): 'US_GA',\n ('United States', 'Hawaii'): 'US_HI',\n ('United States', 'Idaho'): 'US_ID',\n ('United States', 'Illinois'): 'US_IL',\n ('United States', 'Indiana'): 'US_IN',\n ('United States', 'Iowa'): 'US_IA',\n ('United States', 'Kansas'): 'US_KS',\n ('United States', 'Kentucky'): 'US_KY',\n ('United States', 'Louisiana'): 'US_LA',\n ('United States', 'Maine'): 'US_ME',\n ('United States', 'Maryland'): 'US_MD',\n ('United States', 'Massachusetts'): 'US_MA',\n ('United States', 'Michigan'): 'US_MI',\n ('United States', 'Minnesota'): 'US_MN',\n ('United States', 'Mississippi'): 'US_MS',\n ('United States', 'Missouri'): 'US_MO',\n ('United States', 'Montana'): 'US_MT',\n ('United States', 'Nebraska'): 'US_NE',\n ('United States', 'Nevada'): 'US_NV',\n ('United States', 'New Hampshire'): 'US_NH',\n ('United States', 'New Jersey'): 'US_NJ',\n ('United States', 'New Mexico'): 'US_NM',\n ('United States', 'New York'): 'US_NY',\n ('United States', 'North Carolina'): 'US_NC',\n ('United States', 'North Dakota'): 'US_ND',\n ('United States', 'Ohio'): 'US_OH',\n ('United States', 'Oklahoma'): 'US_OK',\n ('United States', 'Oregon'): 'US_OR',\n ('United States', 'Pennsylvania'): 'US_PA',\n ('United States', 'Rhode Island'): 'US_RI',\n ('United States', 'South Carolina'): 'US_SC',\n ('United States', 'South Dakota'): 'US_SD',\n ('United States', 'Tennessee'): 'US_TN',\n ('United States', 'Texas'): 'US_TX',\n ('United States', 'Utah'): 'US_UT',\n ('United States', 'Vermont'): 'US_VT',\n ('United States', 'Virgin Islands'): 'US_VI',\n ('United States', 'Virginia'): 'US_VA',\n ('United States', 'Washington'): 'US_WA',\n ('United States', 'Washington DC'): 'US_DC',\n ('United States', 'West Virginia'): 'US_WV',\n ('United States', 'Wisconsin'): 'US_WI',\n ('United States', 'Wyoming'): 'US_WY',\n ('Uruguay', ''): 'URY',\n ('Uzbekistan', ''): 'UZB',\n ('Vanuatu', ''): 'VUT',\n ('Venezuela', ''): 'VEN',\n ('Vietnam', ''): 'VNM',\n ('Yemen', ''): 'YEM',\n ('Zambia', ''): 'ZMB',\n ('Zimbabwe', ''): 'ZWE'}\n"
     ]
    }
   ],
   "source": [
    "import os\n",
    "import pandas as pd\n",
    "import requests \n",
    "from AlphanumericsTeam.data.util import get_aug_oxford_df, filter_df_regions\n",
    "\n",
    "\n",
    "REPO_ROOT = os.path.abspath(os.path.join(os.path.abspath(''), os.pardir, os.pardir, os.pardir))"
   ]
  },
  {
   "cell_type": "code",
   "execution_count": 2,
   "metadata": {},
   "outputs": [],
   "source": [
    "NPI_COLUMNS = ['C1_School closing',\n",
    "               'C2_Workplace closing',\n",
    "               'C3_Cancel public events',\n",
    "               'C4_Restrictions on gatherings',\n",
    "               'C5_Close public transport',\n",
    "               'C6_Stay at home requirements',\n",
    "               'C7_Restrictions on internal movement',\n",
    "               'C8_International travel controls',\n",
    "               'H1_Public information campaigns',\n",
    "               'H2_Testing policy',\n",
    "               'H3_Contact tracing',\n",
    "               'H6_Facial Coverings']"
   ]
  },
  {
   "cell_type": "code",
   "execution_count": 3,
   "metadata": {},
   "outputs": [
    {
     "output_type": "execute_result",
     "data": {
      "text/plain": [
       "      CountryName RegionName       Date  C1_School closing  \\\n",
       "0           Aruba        NaN 2020-01-01                0.0   \n",
       "1           Aruba        NaN 2020-01-02                0.0   \n",
       "2           Aruba        NaN 2020-01-03                0.0   \n",
       "3           Aruba        NaN 2020-01-04                0.0   \n",
       "4           Aruba        NaN 2020-01-05                0.0   \n",
       "...           ...        ...        ...                ...   \n",
       "72605    Zimbabwe        NaN 2020-09-26                2.0   \n",
       "72606    Zimbabwe        NaN 2020-09-27                2.0   \n",
       "72607    Zimbabwe        NaN 2020-09-28                2.0   \n",
       "72608    Zimbabwe        NaN 2020-09-29                2.0   \n",
       "72609    Zimbabwe        NaN 2020-09-30                2.0   \n",
       "\n",
       "       C2_Workplace closing  C3_Cancel public events  \\\n",
       "0                       0.0                      0.0   \n",
       "1                       0.0                      0.0   \n",
       "2                       0.0                      0.0   \n",
       "3                       0.0                      0.0   \n",
       "4                       0.0                      0.0   \n",
       "...                     ...                      ...   \n",
       "72605                   1.0                      2.0   \n",
       "72606                   1.0                      2.0   \n",
       "72607                   1.0                      2.0   \n",
       "72608                   1.0                      2.0   \n",
       "72609                   1.0                      2.0   \n",
       "\n",
       "       C4_Restrictions on gatherings  C5_Close public transport  \\\n",
       "0                                0.0                        0.0   \n",
       "1                                0.0                        0.0   \n",
       "2                                0.0                        0.0   \n",
       "3                                0.0                        0.0   \n",
       "4                                0.0                        0.0   \n",
       "...                              ...                        ...   \n",
       "72605                            3.0                        1.0   \n",
       "72606                            3.0                        1.0   \n",
       "72607                            3.0                        1.0   \n",
       "72608                            3.0                        1.0   \n",
       "72609                            3.0                        1.0   \n",
       "\n",
       "       C6_Stay at home requirements  C7_Restrictions on internal movement  \\\n",
       "0                               0.0                                   0.0   \n",
       "1                               0.0                                   0.0   \n",
       "2                               0.0                                   0.0   \n",
       "3                               0.0                                   0.0   \n",
       "4                               0.0                                   0.0   \n",
       "...                             ...                                   ...   \n",
       "72605                           2.0                                   2.0   \n",
       "72606                           2.0                                   2.0   \n",
       "72607                           2.0                                   2.0   \n",
       "72608                           2.0                                   2.0   \n",
       "72609                           2.0                                   2.0   \n",
       "\n",
       "       C8_International travel controls  H1_Public information campaigns  \\\n",
       "0                                   0.0                              0.0   \n",
       "1                                   0.0                              0.0   \n",
       "2                                   0.0                              0.0   \n",
       "3                                   0.0                              0.0   \n",
       "4                                   0.0                              0.0   \n",
       "...                                 ...                              ...   \n",
       "72605                               4.0                              2.0   \n",
       "72606                               4.0                              2.0   \n",
       "72607                               4.0                              2.0   \n",
       "72608                               4.0                              2.0   \n",
       "72609                               4.0                              2.0   \n",
       "\n",
       "       H2_Testing policy  H3_Contact tracing  H6_Facial Coverings  \n",
       "0                    0.0                 0.0                  0.0  \n",
       "1                    0.0                 0.0                  0.0  \n",
       "2                    0.0                 0.0                  0.0  \n",
       "3                    0.0                 0.0                  0.0  \n",
       "4                    0.0                 0.0                  0.0  \n",
       "...                  ...                 ...                  ...  \n",
       "72605                1.0                 1.0                  3.0  \n",
       "72606                1.0                 1.0                  3.0  \n",
       "72607                1.0                 1.0                  3.0  \n",
       "72608                1.0                 1.0                  1.0  \n",
       "72609                1.0                 1.0                  1.0  \n",
       "\n",
       "[72610 rows x 15 columns]"
      ],
      "text/html": "<div>\n<style scoped>\n    .dataframe tbody tr th:only-of-type {\n        vertical-align: middle;\n    }\n\n    .dataframe tbody tr th {\n        vertical-align: top;\n    }\n\n    .dataframe thead th {\n        text-align: right;\n    }\n</style>\n<table border=\"1\" class=\"dataframe\">\n  <thead>\n    <tr style=\"text-align: right;\">\n      <th></th>\n      <th>CountryName</th>\n      <th>RegionName</th>\n      <th>Date</th>\n      <th>C1_School closing</th>\n      <th>C2_Workplace closing</th>\n      <th>C3_Cancel public events</th>\n      <th>C4_Restrictions on gatherings</th>\n      <th>C5_Close public transport</th>\n      <th>C6_Stay at home requirements</th>\n      <th>C7_Restrictions on internal movement</th>\n      <th>C8_International travel controls</th>\n      <th>H1_Public information campaigns</th>\n      <th>H2_Testing policy</th>\n      <th>H3_Contact tracing</th>\n      <th>H6_Facial Coverings</th>\n    </tr>\n  </thead>\n  <tbody>\n    <tr>\n      <th>0</th>\n      <td>Aruba</td>\n      <td>NaN</td>\n      <td>2020-01-01</td>\n      <td>0.0</td>\n      <td>0.0</td>\n      <td>0.0</td>\n      <td>0.0</td>\n      <td>0.0</td>\n      <td>0.0</td>\n      <td>0.0</td>\n      <td>0.0</td>\n      <td>0.0</td>\n      <td>0.0</td>\n      <td>0.0</td>\n      <td>0.0</td>\n    </tr>\n    <tr>\n      <th>1</th>\n      <td>Aruba</td>\n      <td>NaN</td>\n      <td>2020-01-02</td>\n      <td>0.0</td>\n      <td>0.0</td>\n      <td>0.0</td>\n      <td>0.0</td>\n      <td>0.0</td>\n      <td>0.0</td>\n      <td>0.0</td>\n      <td>0.0</td>\n      <td>0.0</td>\n      <td>0.0</td>\n      <td>0.0</td>\n      <td>0.0</td>\n    </tr>\n    <tr>\n      <th>2</th>\n      <td>Aruba</td>\n      <td>NaN</td>\n      <td>2020-01-03</td>\n      <td>0.0</td>\n      <td>0.0</td>\n      <td>0.0</td>\n      <td>0.0</td>\n      <td>0.0</td>\n      <td>0.0</td>\n      <td>0.0</td>\n      <td>0.0</td>\n      <td>0.0</td>\n      <td>0.0</td>\n      <td>0.0</td>\n      <td>0.0</td>\n    </tr>\n    <tr>\n      <th>3</th>\n      <td>Aruba</td>\n      <td>NaN</td>\n      <td>2020-01-04</td>\n      <td>0.0</td>\n      <td>0.0</td>\n      <td>0.0</td>\n      <td>0.0</td>\n      <td>0.0</td>\n      <td>0.0</td>\n      <td>0.0</td>\n      <td>0.0</td>\n      <td>0.0</td>\n      <td>0.0</td>\n      <td>0.0</td>\n      <td>0.0</td>\n    </tr>\n    <tr>\n      <th>4</th>\n      <td>Aruba</td>\n      <td>NaN</td>\n      <td>2020-01-05</td>\n      <td>0.0</td>\n      <td>0.0</td>\n      <td>0.0</td>\n      <td>0.0</td>\n      <td>0.0</td>\n      <td>0.0</td>\n      <td>0.0</td>\n      <td>0.0</td>\n      <td>0.0</td>\n      <td>0.0</td>\n      <td>0.0</td>\n      <td>0.0</td>\n    </tr>\n    <tr>\n      <th>...</th>\n      <td>...</td>\n      <td>...</td>\n      <td>...</td>\n      <td>...</td>\n      <td>...</td>\n      <td>...</td>\n      <td>...</td>\n      <td>...</td>\n      <td>...</td>\n      <td>...</td>\n      <td>...</td>\n      <td>...</td>\n      <td>...</td>\n      <td>...</td>\n      <td>...</td>\n    </tr>\n    <tr>\n      <th>72605</th>\n      <td>Zimbabwe</td>\n      <td>NaN</td>\n      <td>2020-09-26</td>\n      <td>2.0</td>\n      <td>1.0</td>\n      <td>2.0</td>\n      <td>3.0</td>\n      <td>1.0</td>\n      <td>2.0</td>\n      <td>2.0</td>\n      <td>4.0</td>\n      <td>2.0</td>\n      <td>1.0</td>\n      <td>1.0</td>\n      <td>3.0</td>\n    </tr>\n    <tr>\n      <th>72606</th>\n      <td>Zimbabwe</td>\n      <td>NaN</td>\n      <td>2020-09-27</td>\n      <td>2.0</td>\n      <td>1.0</td>\n      <td>2.0</td>\n      <td>3.0</td>\n      <td>1.0</td>\n      <td>2.0</td>\n      <td>2.0</td>\n      <td>4.0</td>\n      <td>2.0</td>\n      <td>1.0</td>\n      <td>1.0</td>\n      <td>3.0</td>\n    </tr>\n    <tr>\n      <th>72607</th>\n      <td>Zimbabwe</td>\n      <td>NaN</td>\n      <td>2020-09-28</td>\n      <td>2.0</td>\n      <td>1.0</td>\n      <td>2.0</td>\n      <td>3.0</td>\n      <td>1.0</td>\n      <td>2.0</td>\n      <td>2.0</td>\n      <td>4.0</td>\n      <td>2.0</td>\n      <td>1.0</td>\n      <td>1.0</td>\n      <td>3.0</td>\n    </tr>\n    <tr>\n      <th>72608</th>\n      <td>Zimbabwe</td>\n      <td>NaN</td>\n      <td>2020-09-29</td>\n      <td>2.0</td>\n      <td>1.0</td>\n      <td>2.0</td>\n      <td>3.0</td>\n      <td>1.0</td>\n      <td>2.0</td>\n      <td>2.0</td>\n      <td>4.0</td>\n      <td>2.0</td>\n      <td>1.0</td>\n      <td>1.0</td>\n      <td>1.0</td>\n    </tr>\n    <tr>\n      <th>72609</th>\n      <td>Zimbabwe</td>\n      <td>NaN</td>\n      <td>2020-09-30</td>\n      <td>2.0</td>\n      <td>1.0</td>\n      <td>2.0</td>\n      <td>3.0</td>\n      <td>1.0</td>\n      <td>2.0</td>\n      <td>2.0</td>\n      <td>4.0</td>\n      <td>2.0</td>\n      <td>1.0</td>\n      <td>1.0</td>\n      <td>1.0</td>\n    </tr>\n  </tbody>\n</table>\n<p>72610 rows × 15 columns</p>\n</div>"
     },
     "metadata": {},
     "execution_count": 3
    }
   ],
   "source": [
    "EXAMPLE_INPUT_FILE = os.path.join(REPO_ROOT, \"covid_xprize/validation/data/2020-09-30_historical_ip.csv\")\n",
    "prediction_input_df = pd.read_csv(EXAMPLE_INPUT_FILE,\n",
    "                                  parse_dates=['Date'],\n",
    "                                  dtype={\"RegionName\": str},\n",
    "                                  encoding=\"ISO-8859-1\")\n",
    "\n",
    "prediction_input_df"
   ]
  },
  {
   "cell_type": "code",
   "execution_count": 4,
   "metadata": {},
   "outputs": [],
   "source": [
    "EXAMPLE_OUTPUT_FILE = os.path.join(REPO_ROOT, \"2020-08-01_2020-08-04_predictions_example.csv\")\n",
    "prediction_output_df = pd.read_csv(EXAMPLE_OUTPUT_FILE,\n",
    "                                   parse_dates=['Date'],\n",
    "                                   encoding=\"ISO-8859-1\")                           "
   ]
  },
  {
   "cell_type": "code",
   "execution_count": 5,
   "metadata": {},
   "outputs": [],
   "source": [
    "DATA_URL = 'https://raw.githubusercontent.com/OxCGRT/covid-policy-tracker/master/data/OxCGRT_latest.csv'\n",
    "df = pd.read_csv(DATA_URL,\n",
    "                 parse_dates=['Date'],\n",
    "                 encoding=\"ISO-8859-1\",\n",
    "                 dtype={\"RegionName\": str,\n",
    "                        \"RegionCode\": str},\n",
    "                 error_bad_lines=False)\n",
    "\n",
    "# Has 6 additional columns \n",
    "# 'New Cases' \n",
    "# 'GeoID' \n",
    "# 'Holidays' \n",
    "# 'pop_2020' \n",
    "# 'area_km2' \n",
    "# 'density_perkm2'\n",
    "df = get_aug_oxford_df() \n",
    "df = filter_df_regions(df)\n",
    "assert df.CountryName.unique().size == 180\n",
    "assert df.RegionName.unique().size == 56 + 1 "
   ]
  },
  {
   "cell_type": "code",
   "execution_count": 6,
   "metadata": {},
   "outputs": [
    {
     "output_type": "execute_result",
     "data": {
      "text/plain": [
       "         CountryName CountryCode  RegionName RegionCode Jurisdiction  \\\n",
       "89455  United States         USA  New Jersey      US_NJ  STATE_TOTAL   \n",
       "72368          Syria         SYR                    NaN    NAT_TOTAL   \n",
       "62518         Poland         POL                    NaN    NAT_TOTAL   \n",
       "\n",
       "            Date  C1_School closing  C1_Flag  C2_Workplace closing  C2_Flag  \\\n",
       "89455 2020-07-24                3.0      0.0                   2.0      1.0   \n",
       "72368 2020-09-11                3.0      1.0                   2.0      1.0   \n",
       "62518 2020-02-13                0.0      NaN                   0.0      NaN   \n",
       "\n",
       "       ...  ContainmentHealthIndex  ContainmentHealthIndexForDisplay  \\\n",
       "89455  ...                   62.18                             62.18   \n",
       "72368  ...                   39.42                             39.42   \n",
       "62518  ...                    3.85                              3.85   \n",
       "\n",
       "       EconomicSupportIndex  EconomicSupportIndexForDisplay  NewCases  \\\n",
       "89455                  87.5                            87.5     458.0   \n",
       "72368                   0.0                             0.0      60.0   \n",
       "62518                   0.0                             0.0       0.0   \n",
       "\n",
       "                           GeoID  Holidays    pop_2020  area_km2  \\\n",
       "89455  United States__New Jersey       0.0   8936570.0   19047.0   \n",
       "72368                    Syria__       1.0  17500658.0  185180.0   \n",
       "62518                   Poland__       0.0  37846611.0  312679.0   \n",
       "\n",
       "       density_perkm2  \n",
       "89455           469.0  \n",
       "72368            95.0  \n",
       "62518           121.0  \n",
       "\n",
       "[3 rows x 55 columns]"
      ],
      "text/html": "<div>\n<style scoped>\n    .dataframe tbody tr th:only-of-type {\n        vertical-align: middle;\n    }\n\n    .dataframe tbody tr th {\n        vertical-align: top;\n    }\n\n    .dataframe thead th {\n        text-align: right;\n    }\n</style>\n<table border=\"1\" class=\"dataframe\">\n  <thead>\n    <tr style=\"text-align: right;\">\n      <th></th>\n      <th>CountryName</th>\n      <th>CountryCode</th>\n      <th>RegionName</th>\n      <th>RegionCode</th>\n      <th>Jurisdiction</th>\n      <th>Date</th>\n      <th>C1_School closing</th>\n      <th>C1_Flag</th>\n      <th>C2_Workplace closing</th>\n      <th>C2_Flag</th>\n      <th>...</th>\n      <th>ContainmentHealthIndex</th>\n      <th>ContainmentHealthIndexForDisplay</th>\n      <th>EconomicSupportIndex</th>\n      <th>EconomicSupportIndexForDisplay</th>\n      <th>NewCases</th>\n      <th>GeoID</th>\n      <th>Holidays</th>\n      <th>pop_2020</th>\n      <th>area_km2</th>\n      <th>density_perkm2</th>\n    </tr>\n  </thead>\n  <tbody>\n    <tr>\n      <th>89455</th>\n      <td>United States</td>\n      <td>USA</td>\n      <td>New Jersey</td>\n      <td>US_NJ</td>\n      <td>STATE_TOTAL</td>\n      <td>2020-07-24</td>\n      <td>3.0</td>\n      <td>0.0</td>\n      <td>2.0</td>\n      <td>1.0</td>\n      <td>...</td>\n      <td>62.18</td>\n      <td>62.18</td>\n      <td>87.5</td>\n      <td>87.5</td>\n      <td>458.0</td>\n      <td>United States__New Jersey</td>\n      <td>0.0</td>\n      <td>8936570.0</td>\n      <td>19047.0</td>\n      <td>469.0</td>\n    </tr>\n    <tr>\n      <th>72368</th>\n      <td>Syria</td>\n      <td>SYR</td>\n      <td></td>\n      <td>NaN</td>\n      <td>NAT_TOTAL</td>\n      <td>2020-09-11</td>\n      <td>3.0</td>\n      <td>1.0</td>\n      <td>2.0</td>\n      <td>1.0</td>\n      <td>...</td>\n      <td>39.42</td>\n      <td>39.42</td>\n      <td>0.0</td>\n      <td>0.0</td>\n      <td>60.0</td>\n      <td>Syria__</td>\n      <td>1.0</td>\n      <td>17500658.0</td>\n      <td>185180.0</td>\n      <td>95.0</td>\n    </tr>\n    <tr>\n      <th>62518</th>\n      <td>Poland</td>\n      <td>POL</td>\n      <td></td>\n      <td>NaN</td>\n      <td>NAT_TOTAL</td>\n      <td>2020-02-13</td>\n      <td>0.0</td>\n      <td>NaN</td>\n      <td>0.0</td>\n      <td>NaN</td>\n      <td>...</td>\n      <td>3.85</td>\n      <td>3.85</td>\n      <td>0.0</td>\n      <td>0.0</td>\n      <td>0.0</td>\n      <td>Poland__</td>\n      <td>0.0</td>\n      <td>37846611.0</td>\n      <td>312679.0</td>\n      <td>121.0</td>\n    </tr>\n  </tbody>\n</table>\n<p>3 rows × 55 columns</p>\n</div>"
     },
     "metadata": {},
     "execution_count": 6
    }
   ],
   "source": [
    "df.sample(3)"
   ]
  },
  {
   "cell_type": "code",
   "execution_count": 7,
   "metadata": {},
   "outputs": [],
   "source": [
    "df[\"DailyChangeConfirmedCases\"] = df.groupby([\"CountryName\", \"RegionName\"]).ConfirmedCases.diff().fillna(0)"
   ]
  },
  {
   "cell_type": "code",
   "execution_count": 8,
   "metadata": {},
   "outputs": [],
   "source": [
    "california_df = df[(df.CountryName == \"United States\") & (df.RegionName == \"California\")]"
   ]
  },
  {
   "cell_type": "code",
   "execution_count": 9,
   "metadata": {},
   "outputs": [
    {
     "output_type": "execute_result",
     "data": {
      "text/plain": [
       "         CountryName  RegionName       Date  ConfirmedCases  \\\n",
       "79963  United States  California 2020-12-18       1802195.0   \n",
       "79964  United States  California 2020-12-19       1842557.0   \n",
       "79965  United States  California 2020-12-20       1884033.0   \n",
       "79966  United States  California 2020-12-21       1923887.0   \n",
       "79967  United States  California 2020-12-22             NaN   \n",
       "\n",
       "       DailyChangeConfirmedCases  \n",
       "79963                    48221.0  \n",
       "79964                    40362.0  \n",
       "79965                    41476.0  \n",
       "79966                    39854.0  \n",
       "79967                        0.0  "
      ],
      "text/html": "<div>\n<style scoped>\n    .dataframe tbody tr th:only-of-type {\n        vertical-align: middle;\n    }\n\n    .dataframe tbody tr th {\n        vertical-align: top;\n    }\n\n    .dataframe thead th {\n        text-align: right;\n    }\n</style>\n<table border=\"1\" class=\"dataframe\">\n  <thead>\n    <tr style=\"text-align: right;\">\n      <th></th>\n      <th>CountryName</th>\n      <th>RegionName</th>\n      <th>Date</th>\n      <th>ConfirmedCases</th>\n      <th>DailyChangeConfirmedCases</th>\n    </tr>\n  </thead>\n  <tbody>\n    <tr>\n      <th>79963</th>\n      <td>United States</td>\n      <td>California</td>\n      <td>2020-12-18</td>\n      <td>1802195.0</td>\n      <td>48221.0</td>\n    </tr>\n    <tr>\n      <th>79964</th>\n      <td>United States</td>\n      <td>California</td>\n      <td>2020-12-19</td>\n      <td>1842557.0</td>\n      <td>40362.0</td>\n    </tr>\n    <tr>\n      <th>79965</th>\n      <td>United States</td>\n      <td>California</td>\n      <td>2020-12-20</td>\n      <td>1884033.0</td>\n      <td>41476.0</td>\n    </tr>\n    <tr>\n      <th>79966</th>\n      <td>United States</td>\n      <td>California</td>\n      <td>2020-12-21</td>\n      <td>1923887.0</td>\n      <td>39854.0</td>\n    </tr>\n    <tr>\n      <th>79967</th>\n      <td>United States</td>\n      <td>California</td>\n      <td>2020-12-22</td>\n      <td>NaN</td>\n      <td>0.0</td>\n    </tr>\n  </tbody>\n</table>\n</div>"
     },
     "metadata": {},
     "execution_count": 9
    }
   ],
   "source": [
    "california_df[[\"CountryName\", \"RegionName\", \"Date\", \"ConfirmedCases\", \"DailyChangeConfirmedCases\"]].tail(5)"
   ]
  },
  {
   "cell_type": "code",
   "execution_count": 12,
   "metadata": {},
   "outputs": [
    {
     "output_type": "stream",
     "name": "stdout",
     "text": [
      "Creating numpy arrays for Keras for each country...\n",
      "Numpy arrays created\n",
      "Trial 0\n",
      "Epoch 1/5\n",
      "167/167 [==============================] - 1s 6ms/step - loss: 0.9230 - val_loss: 0.1163\n",
      "Epoch 2/5\n",
      "167/167 [==============================] - 1s 3ms/step - loss: 0.0738 - val_loss: 0.0688\n",
      "Epoch 3/5\n",
      "167/167 [==============================] - 1s 3ms/step - loss: 0.0696 - val_loss: 0.0682\n",
      "Epoch 4/5\n",
      "167/167 [==============================] - 1s 3ms/step - loss: 0.0715 - val_loss: 0.0728\n",
      "Epoch 5/5\n",
      "167/167 [==============================] - 1s 3ms/step - loss: 0.0702 - val_loss: 0.0683\n",
      "186/186 [==============================] - 0s 2ms/step - loss: 0.0695\n",
      "Train Loss: 0.06963951885700226\n",
      "Val Loss: 0.06819598376750946\n",
      "Test Loss: 0.06954781711101532\n",
      "Trial 1\n",
      "Epoch 1/5\n",
      "167/167 [==============================] - 1s 6ms/step - loss: 1.0440 - val_loss: 1.0508\n",
      "Epoch 2/5\n",
      "167/167 [==============================] - 1s 3ms/step - loss: 0.3348 - val_loss: 0.0784\n",
      "Epoch 3/5\n",
      "167/167 [==============================] - 1s 3ms/step - loss: 0.0689 - val_loss: 0.0777\n",
      "Epoch 4/5\n",
      "167/167 [==============================] - 1s 3ms/step - loss: 0.0688 - val_loss: 0.0776\n",
      "Epoch 5/5\n",
      "167/167 [==============================] - 0s 3ms/step - loss: 0.0681 - val_loss: 0.0777\n",
      "186/186 [==============================] - 0s 2ms/step - loss: 0.0682\n",
      "Train Loss: 0.06880587339401245\n",
      "Val Loss: 0.07759419828653336\n",
      "Test Loss: 0.06823396682739258\n",
      "Trial 2\n",
      "Epoch 1/5\n",
      "167/167 [==============================] - 1s 5ms/step - loss: 1.0440 - val_loss: 1.0521\n",
      "Epoch 2/5\n",
      "167/167 [==============================] - 1s 3ms/step - loss: 1.0457 - val_loss: 1.0519\n",
      "Epoch 3/5\n",
      "167/167 [==============================] - 1s 3ms/step - loss: 0.4074 - val_loss: 0.0705\n",
      "Epoch 4/5\n",
      "167/167 [==============================] - 1s 3ms/step - loss: 0.0704 - val_loss: 0.0697\n",
      "Epoch 5/5\n",
      "167/167 [==============================] - 0s 3ms/step - loss: 0.0698 - val_loss: 0.0697\n",
      "186/186 [==============================] - 0s 2ms/step - loss: 0.0688\n",
      "Train Loss: 0.07037421315908432\n",
      "Val Loss: 0.06966542452573776\n",
      "Test Loss: 0.06877116858959198\n",
      "Trial 3\n",
      "Epoch 1/5\n",
      "167/167 [==============================] - 1s 5ms/step - loss: 1.0427 - val_loss: 1.0559\n",
      "Epoch 2/5\n",
      "167/167 [==============================] - 1s 3ms/step - loss: 0.8896 - val_loss: 0.1062\n",
      "Epoch 3/5\n",
      "167/167 [==============================] - 1s 3ms/step - loss: 0.0735 - val_loss: 0.0714\n",
      "Epoch 4/5\n",
      "167/167 [==============================] - 1s 3ms/step - loss: 0.0695 - val_loss: 0.0725\n",
      "Epoch 5/5\n",
      "167/167 [==============================] - 1s 3ms/step - loss: 0.0691 - val_loss: 0.0727\n",
      "186/186 [==============================] - 0s 2ms/step - loss: 0.0712\n",
      "Train Loss: 0.07348563522100449\n",
      "Val Loss: 0.07135404646396637\n",
      "Test Loss: 0.07124268263578415\n",
      "Trial 4\n",
      "Epoch 1/5\n",
      "167/167 [==============================] - 1s 5ms/step - loss: 1.0432 - val_loss: 1.0258\n",
      "Epoch 2/5\n",
      "167/167 [==============================] - 0s 3ms/step - loss: 0.2254 - val_loss: 0.0683\n",
      "Epoch 3/5\n",
      "167/167 [==============================] - 1s 3ms/step - loss: 0.0710 - val_loss: 0.0659\n",
      "Epoch 4/5\n",
      "167/167 [==============================] - 1s 3ms/step - loss: 0.0701 - val_loss: 0.0658\n",
      "Epoch 5/5\n",
      "167/167 [==============================] - 1s 3ms/step - loss: 0.0703 - val_loss: 0.0676\n",
      "186/186 [==============================] - 0s 2ms/step - loss: 0.0696\n",
      "Train Loss: 0.07009465992450714\n",
      "Val Loss: 0.06582637131214142\n",
      "Test Loss: 0.06959758698940277\n",
      "############\n",
      "############ [<tensorflow.python.keras.engine.input_layer.InputLayer object at 0x7f65801b1390>, <tensorflow.python.keras.engine.input_layer.InputLayer object at 0x7f656ead5f50>, <tensorflow.python.keras.layers.recurrent_v2.LSTM object at 0x7f656d67eb50>, <tensorflow.python.keras.layers.recurrent_v2.LSTM object at 0x7f656eb37150>, <tensorflow.python.keras.layers.core.Dense object at 0x7f658dde82d0>, <tensorflow.python.keras.layers.core.Dense object at 0x7f656ef0bc50>, <tensorflow.python.keras.layers.core.Lambda object at 0x7f656ef04b10>] 5\n",
      "Done\n",
      "{'Argentina': 1482283.0395814215,\n",
      " 'Brazil': 702770.0384427137,\n",
      " 'Brazil / Sao Paulo': 1480441.4937331986,\n",
      " 'Colombia': 1495330.3722108142,\n",
      " 'France': 1177457.741191538,\n",
      " 'Germany': 1551810.7057159352,\n",
      " 'India': 933762.207618489,\n",
      " 'Iran': 1376364.391512162,\n",
      " 'Italy': 1020545.9664704663,\n",
      " 'Mexico': 963328.4679869254,\n",
      " 'Peru': 1495483.61139715,\n",
      " 'Poland': 1607358.3305112459,\n",
      " 'Russia': 1462544.8664247058,\n",
      " 'South Africa': 1651973.4296470906,\n",
      " 'Spain': 1476261.4358748011,\n",
      " 'United Kingdom': 1133981.084158359,\n",
      " 'United Kingdom / England': 1268240.610297326,\n",
      " 'United States': 639843.7213834017,\n",
      " 'United States / New York': 1520955.572471188,\n",
      " 'United States / Texas': 1591173.6448726044}\n"
     ]
    }
   ],
   "source": [
    "# Reload the module to get the latest changes\n",
    "import xprize_predictor\n",
    "from importlib import reload\n",
    "reload(xprize_predictor)\n",
    "from xprize_predictor import XPrizePredictor\n",
    "\n",
    "DATA_PATH = os.path.join(\"data\", 'OxCGRT_latest_aug.csv')\n",
    "predictor = XPrizePredictor(None, DATA_PATH)\n",
    " \n",
    "predictor_model = predictor.train()\n",
    "\n",
    "model_weights_file = \"models/trained_model_weights.h5\"\n",
    "if not os.path.exists('models'):\n",
    "    os.mkdir('models')\n",
    "predictor_model.save_weights(model_weights_file)"
   ]
  },
  {
   "cell_type": "code",
   "execution_count": 16,
   "metadata": {},
   "outputs": [
    {
     "output_type": "stream",
     "name": "stdout",
     "text": [
      "Index(['CountryName', 'RegionName', 'Date', 'C1_School closing',\n       'C2_Workplace closing', 'C3_Cancel public events',\n       'C4_Restrictions on gatherings', 'C5_Close public transport',\n       'C6_Stay at home requirements', 'C7_Restrictions on internal movement',\n       'C8_International travel controls', 'H1_Public information campaigns',\n       'H2_Testing policy', 'H3_Contact tracing', 'H6_Facial Coverings',\n       'GeoID'],\n      dtype='object')\n"
     ]
    },
    {
     "output_type": "error",
     "ename": "KeyError",
     "evalue": "\"['density_perkm2', 'Holidays'] not in index\"",
     "traceback": [
      "\u001b[0;31m---------------------------------------------------------------------------\u001b[0m",
      "\u001b[0;31mKeyError\u001b[0m                                  Traceback (most recent call last)",
      "\u001b[0;32m<ipython-input-16-1986fa586be6>\u001b[0m in \u001b[0;36m<module>\u001b[0;34m\u001b[0m\n\u001b[1;32m     10\u001b[0m \u001b[0mend_date\u001b[0m \u001b[0;34m=\u001b[0m \u001b[0;34m\"2020-08-31\"\u001b[0m\u001b[0;34m\u001b[0m\u001b[0;34m\u001b[0m\u001b[0m\n\u001b[1;32m     11\u001b[0m \u001b[0;34m\u001b[0m\u001b[0m\n\u001b[0;32m---> 12\u001b[0;31m \u001b[0mpreds_df\u001b[0m \u001b[0;34m=\u001b[0m \u001b[0mpredictor\u001b[0m\u001b[0;34m.\u001b[0m\u001b[0mpredict\u001b[0m\u001b[0;34m(\u001b[0m\u001b[0mstart_date\u001b[0m\u001b[0;34m,\u001b[0m \u001b[0mend_date\u001b[0m\u001b[0;34m,\u001b[0m \u001b[0mNPIS_INPUT_FILE\u001b[0m\u001b[0;34m)\u001b[0m\u001b[0;34m\u001b[0m\u001b[0;34m\u001b[0m\u001b[0m\n\u001b[0m\u001b[1;32m     13\u001b[0m \u001b[0mpreds_df\u001b[0m\u001b[0;34m.\u001b[0m\u001b[0mhead\u001b[0m\u001b[0;34m(\u001b[0m\u001b[0;34m)\u001b[0m\u001b[0;34m\u001b[0m\u001b[0;34m\u001b[0m\u001b[0m\n",
      "\u001b[0;32m~/git/covid-xprize/AlphanumericsTeam/predictors/lstm/xprize_predictor.py\u001b[0m in \u001b[0;36mpredict\u001b[0;34m(self, start_date_str, end_date_str, path_to_ips_file)\u001b[0m\n\u001b[1;32m    137\u001b[0m                 \u001b[0mnpis_gdf\u001b[0m \u001b[0;34m=\u001b[0m \u001b[0mnpis_df\u001b[0m\u001b[0;34m[\u001b[0m\u001b[0;34m(\u001b[0m\u001b[0mnpis_df\u001b[0m\u001b[0;34m.\u001b[0m\u001b[0mDate\u001b[0m \u001b[0;34m>=\u001b[0m \u001b[0mgeo_start_date\u001b[0m\u001b[0;34m)\u001b[0m \u001b[0;34m&\u001b[0m \u001b[0;34m(\u001b[0m\u001b[0mnpis_df\u001b[0m\u001b[0;34m.\u001b[0m\u001b[0mDate\u001b[0m \u001b[0;34m<=\u001b[0m \u001b[0mend_date\u001b[0m\u001b[0;34m)\u001b[0m\u001b[0;34m]\u001b[0m\u001b[0;34m\u001b[0m\u001b[0;34m\u001b[0m\u001b[0m\n\u001b[1;32m    138\u001b[0m \u001b[0;34m\u001b[0m\u001b[0m\n\u001b[0;32m--> 139\u001b[0;31m                 \u001b[0mpred_new_cases\u001b[0m \u001b[0;34m=\u001b[0m \u001b[0mself\u001b[0m\u001b[0;34m.\u001b[0m\u001b[0m_get_new_cases_preds\u001b[0m\u001b[0;34m(\u001b[0m\u001b[0mcdf\u001b[0m\u001b[0;34m,\u001b[0m \u001b[0mg\u001b[0m\u001b[0;34m,\u001b[0m \u001b[0mnpis_gdf\u001b[0m\u001b[0;34m)\u001b[0m\u001b[0;34m\u001b[0m\u001b[0;34m\u001b[0m\u001b[0m\n\u001b[0m\u001b[1;32m    140\u001b[0m \u001b[0;34m\u001b[0m\u001b[0m\n\u001b[1;32m    141\u001b[0m             \u001b[0;31m# Append forecast data to results to return\u001b[0m\u001b[0;34m\u001b[0m\u001b[0;34m\u001b[0m\u001b[0;34m\u001b[0m\u001b[0m\n",
      "\u001b[0;32m~/git/covid-xprize/AlphanumericsTeam/predictors/lstm/xprize_predictor.py\u001b[0m in \u001b[0;36m_get_new_cases_preds\u001b[0;34m(self, c_df, g, npis_df)\u001b[0m\n\u001b[1;32m    159\u001b[0m         \u001b[0;31m# Predictions with passed npis\u001b[0m\u001b[0;34m\u001b[0m\u001b[0;34m\u001b[0m\u001b[0;34m\u001b[0m\u001b[0m\n\u001b[1;32m    160\u001b[0m         \u001b[0mcnpis_df\u001b[0m \u001b[0;34m=\u001b[0m \u001b[0mnpis_df\u001b[0m\u001b[0;34m[\u001b[0m\u001b[0mnpis_df\u001b[0m\u001b[0;34m.\u001b[0m\u001b[0mGeoID\u001b[0m \u001b[0;34m==\u001b[0m \u001b[0mg\u001b[0m\u001b[0;34m]\u001b[0m\u001b[0;34m\u001b[0m\u001b[0;34m\u001b[0m\u001b[0m\n\u001b[0;32m--> 161\u001b[0;31m         \u001b[0mnpis_sequence\u001b[0m \u001b[0;34m=\u001b[0m \u001b[0mnp\u001b[0m\u001b[0;34m.\u001b[0m\u001b[0marray\u001b[0m\u001b[0;34m(\u001b[0m\u001b[0mcnpis_df\u001b[0m\u001b[0;34m[\u001b[0m\u001b[0mNPI_COLUMNS\u001b[0m \u001b[0;34m+\u001b[0m \u001b[0mADDITIONAL_FEATURES\u001b[0m\u001b[0;34m]\u001b[0m\u001b[0;34m)\u001b[0m\u001b[0;34m\u001b[0m\u001b[0;34m\u001b[0m\u001b[0m\n\u001b[0m\u001b[1;32m    162\u001b[0m         \u001b[0;31m# Get the predictions with the passed NPIs\u001b[0m\u001b[0;34m\u001b[0m\u001b[0;34m\u001b[0m\u001b[0;34m\u001b[0m\u001b[0m\n\u001b[1;32m    163\u001b[0m         preds = self._roll_out_predictions(self.predictor,\n",
      "\u001b[0;32m~/git/covid-xprize/venv/lib/python3.7/site-packages/pandas/core/frame.py\u001b[0m in \u001b[0;36m__getitem__\u001b[0;34m(self, key)\u001b[0m\n\u001b[1;32m   2906\u001b[0m             \u001b[0;32mif\u001b[0m \u001b[0mis_iterator\u001b[0m\u001b[0;34m(\u001b[0m\u001b[0mkey\u001b[0m\u001b[0;34m)\u001b[0m\u001b[0;34m:\u001b[0m\u001b[0;34m\u001b[0m\u001b[0;34m\u001b[0m\u001b[0m\n\u001b[1;32m   2907\u001b[0m                 \u001b[0mkey\u001b[0m \u001b[0;34m=\u001b[0m \u001b[0mlist\u001b[0m\u001b[0;34m(\u001b[0m\u001b[0mkey\u001b[0m\u001b[0;34m)\u001b[0m\u001b[0;34m\u001b[0m\u001b[0;34m\u001b[0m\u001b[0m\n\u001b[0;32m-> 2908\u001b[0;31m             \u001b[0mindexer\u001b[0m \u001b[0;34m=\u001b[0m \u001b[0mself\u001b[0m\u001b[0;34m.\u001b[0m\u001b[0mloc\u001b[0m\u001b[0;34m.\u001b[0m\u001b[0m_get_listlike_indexer\u001b[0m\u001b[0;34m(\u001b[0m\u001b[0mkey\u001b[0m\u001b[0;34m,\u001b[0m \u001b[0maxis\u001b[0m\u001b[0;34m=\u001b[0m\u001b[0;36m1\u001b[0m\u001b[0;34m,\u001b[0m \u001b[0mraise_missing\u001b[0m\u001b[0;34m=\u001b[0m\u001b[0;32mTrue\u001b[0m\u001b[0;34m)\u001b[0m\u001b[0;34m[\u001b[0m\u001b[0;36m1\u001b[0m\u001b[0;34m]\u001b[0m\u001b[0;34m\u001b[0m\u001b[0;34m\u001b[0m\u001b[0m\n\u001b[0m\u001b[1;32m   2909\u001b[0m \u001b[0;34m\u001b[0m\u001b[0m\n\u001b[1;32m   2910\u001b[0m         \u001b[0;31m# take() does not accept boolean indexers\u001b[0m\u001b[0;34m\u001b[0m\u001b[0;34m\u001b[0m\u001b[0;34m\u001b[0m\u001b[0m\n",
      "\u001b[0;32m~/git/covid-xprize/venv/lib/python3.7/site-packages/pandas/core/indexing.py\u001b[0m in \u001b[0;36m_get_listlike_indexer\u001b[0;34m(self, key, axis, raise_missing)\u001b[0m\n\u001b[1;32m   1252\u001b[0m             \u001b[0mkeyarr\u001b[0m\u001b[0;34m,\u001b[0m \u001b[0mindexer\u001b[0m\u001b[0;34m,\u001b[0m \u001b[0mnew_indexer\u001b[0m \u001b[0;34m=\u001b[0m \u001b[0max\u001b[0m\u001b[0;34m.\u001b[0m\u001b[0m_reindex_non_unique\u001b[0m\u001b[0;34m(\u001b[0m\u001b[0mkeyarr\u001b[0m\u001b[0;34m)\u001b[0m\u001b[0;34m\u001b[0m\u001b[0;34m\u001b[0m\u001b[0m\n\u001b[1;32m   1253\u001b[0m \u001b[0;34m\u001b[0m\u001b[0m\n\u001b[0;32m-> 1254\u001b[0;31m         \u001b[0mself\u001b[0m\u001b[0;34m.\u001b[0m\u001b[0m_validate_read_indexer\u001b[0m\u001b[0;34m(\u001b[0m\u001b[0mkeyarr\u001b[0m\u001b[0;34m,\u001b[0m \u001b[0mindexer\u001b[0m\u001b[0;34m,\u001b[0m \u001b[0maxis\u001b[0m\u001b[0;34m,\u001b[0m \u001b[0mraise_missing\u001b[0m\u001b[0;34m=\u001b[0m\u001b[0mraise_missing\u001b[0m\u001b[0;34m)\u001b[0m\u001b[0;34m\u001b[0m\u001b[0;34m\u001b[0m\u001b[0m\n\u001b[0m\u001b[1;32m   1255\u001b[0m         \u001b[0;32mreturn\u001b[0m \u001b[0mkeyarr\u001b[0m\u001b[0;34m,\u001b[0m \u001b[0mindexer\u001b[0m\u001b[0;34m\u001b[0m\u001b[0;34m\u001b[0m\u001b[0m\n\u001b[1;32m   1256\u001b[0m \u001b[0;34m\u001b[0m\u001b[0m\n",
      "\u001b[0;32m~/git/covid-xprize/venv/lib/python3.7/site-packages/pandas/core/indexing.py\u001b[0m in \u001b[0;36m_validate_read_indexer\u001b[0;34m(self, key, indexer, axis, raise_missing)\u001b[0m\n\u001b[1;32m   1302\u001b[0m             \u001b[0;32mif\u001b[0m \u001b[0mraise_missing\u001b[0m\u001b[0;34m:\u001b[0m\u001b[0;34m\u001b[0m\u001b[0;34m\u001b[0m\u001b[0m\n\u001b[1;32m   1303\u001b[0m                 \u001b[0mnot_found\u001b[0m \u001b[0;34m=\u001b[0m \u001b[0mlist\u001b[0m\u001b[0;34m(\u001b[0m\u001b[0mset\u001b[0m\u001b[0;34m(\u001b[0m\u001b[0mkey\u001b[0m\u001b[0;34m)\u001b[0m \u001b[0;34m-\u001b[0m \u001b[0mset\u001b[0m\u001b[0;34m(\u001b[0m\u001b[0max\u001b[0m\u001b[0;34m)\u001b[0m\u001b[0;34m)\u001b[0m\u001b[0;34m\u001b[0m\u001b[0;34m\u001b[0m\u001b[0m\n\u001b[0;32m-> 1304\u001b[0;31m                 \u001b[0;32mraise\u001b[0m \u001b[0mKeyError\u001b[0m\u001b[0;34m(\u001b[0m\u001b[0;34mf\"{not_found} not in index\"\u001b[0m\u001b[0;34m)\u001b[0m\u001b[0;34m\u001b[0m\u001b[0;34m\u001b[0m\u001b[0m\n\u001b[0m\u001b[1;32m   1305\u001b[0m \u001b[0;34m\u001b[0m\u001b[0m\n\u001b[1;32m   1306\u001b[0m             \u001b[0;31m# we skip the warning on Categorical\u001b[0m\u001b[0;34m\u001b[0m\u001b[0;34m\u001b[0m\u001b[0;34m\u001b[0m\u001b[0m\n",
      "\u001b[0;31mKeyError\u001b[0m: \"['density_perkm2', 'Holidays'] not in index\""
     ]
    }
   ],
   "source": [
    "\n",
    "import xprize_predictor\n",
    "from importlib import reload\n",
    "reload(xprize_predictor)\n",
    "\n",
    "from xprize_predictor import XPrizePredictor\n",
    "predictor = XPrizePredictor(model_weights_file, DATA_PATH)\n",
    "\n",
    "NPIS_INPUT_FILE = \"../../validation/data/2020-09-30_historical_ip.csv\"\n",
    "start_date = \"2020-08-01\"\n",
    "end_date = \"2020-08-31\"\n",
    "\n",
    "preds_df = predictor.predict(start_date, end_date, NPIS_INPUT_FILE)\n",
    "preds_df.head()"
   ]
  },
  {
   "cell_type": "code",
   "execution_count": null,
   "metadata": {},
   "outputs": [],
   "source": [
    "!python predict.py -s 2020-08-01 -e 2020-08-04 -ip ../../../validation/data/2020-09-30_historical_ip.csv -o predictions/2020-08-01_2020-08-04.csv\n",
    "!head predictions/2020-08-01_2020-08-04.csv"
   ]
  },
  {
   "cell_type": "markdown",
   "metadata": {},
   "source": [
    "# Test cases\n",
    "We can generate a prediction file. Let's validate a few cases..."
   ]
  },
  {
   "cell_type": "code",
   "execution_count": null,
   "metadata": {},
   "outputs": [],
   "source": [
    "# Check the pediction file is valid\n",
    "import os\n",
    "from covid_xprize.validation.predictor_validation import validate_submission\n",
    "\n",
    "def validate(start_date, end_date, ip_file, output_file):\n",
    "    # First, delete any potential old file\n",
    "    try:\n",
    "        os.remove(output_file)\n",
    "    except OSError:\n",
    "        pass\n",
    "    \n",
    "    # Then generate the prediction, calling the official API\n",
    "    !python predict.py -s {start_date} -e {end_date} -ip {ip_file} -o {output_file}\n",
    "    \n",
    "    # And validate it\n",
    "    errors = validate_submission(start_date, end_date, ip_file, output_file)\n",
    "    if errors:\n",
    "        for error in errors:\n",
    "            print(error)\n",
    "    else:\n",
    "        print(\"All good!\")"
   ]
  },
  {
   "cell_type": "markdown",
   "metadata": {},
   "source": [
    "## 4 days, no gap\n",
    "- All countries and regions\n",
    "- Official number of cases is known up to start_date\n",
    "- Intervention Plans are the official ones"
   ]
  },
  {
   "cell_type": "code",
   "execution_count": null,
   "metadata": {},
   "outputs": [],
   "source": [
    "validate(start_date=\"2020-08-01\",\n",
    "         end_date=\"2020-08-04\",\n",
    "         ip_file=\"../../../validation/data/2020-09-30_historical_ip.csv\",\n",
    "         output_file=\"predictions/val_4_days.csv\")"
   ]
  },
  {
   "cell_type": "markdown",
   "metadata": {},
   "source": [
    "## 1 month in the future\n",
    "- 2 countries only\n",
    "- there's a gap between date of last known number of cases and start_date\n",
    "- For future dates, Intervention Plans contains scenarios for which predictions are requested to answer the question: what will happen if we apply these plans?"
   ]
  },
  {
   "cell_type": "code",
   "execution_count": null,
   "metadata": {},
   "outputs": [],
   "source": [
    "%%time\n",
    "validate(start_date=\"2021-01-01\",\n",
    "         end_date=\"2021-01-31\",\n",
    "         ip_file=\"../../../validation/data/future_ip.csv\",\n",
    "         output_file=\"predictions/val_1_month_future.csv\")"
   ]
  },
  {
   "cell_type": "markdown",
   "metadata": {},
   "source": [
    "## 180 days, from a future date, all countries and regions\n",
    "- Prediction start date is 1 week from now. (i.e. assuming submission date is 1 week from now)  \n",
    "- Prediction end date is 6 months after start date.  \n",
    "- Prediction is requested for all available countries and regions.  \n",
    "- Intervention plan scenario: freeze last known intervention plans for each country and region.  \n",
    "\n",
    "As the number of cases is not known yet between today and start date, but the model relies on them, the model has to predict them in order to use them.  \n",
    "This test is the most demanding test. It should take less than 1 hour to generate the prediction file."
   ]
  },
  {
   "cell_type": "markdown",
   "metadata": {},
   "source": [
    "### Generate the scenario"
   ]
  },
  {
   "cell_type": "code",
   "execution_count": null,
   "metadata": {},
   "outputs": [],
   "source": [
    "from datetime import datetime, timedelta\n",
    "\n",
    "start_date = datetime.now() + timedelta(days=7)\n",
    "start_date_str = start_date.strftime('%Y-%m-%d')\n",
    "end_date = start_date + timedelta(days=180)\n",
    "end_date_str = end_date.strftime('%Y-%m-%d')\n",
    "print(f\"Start date: {start_date_str}\")\n",
    "print(f\"End date: {end_date_str}\")"
   ]
  },
  {
   "cell_type": "code",
   "execution_count": null,
   "metadata": {},
   "outputs": [],
   "source": [
    "from covid_xprize.validation.scenario_generator import get_raw_data, generate_scenario, NPI_COLUMNS\n",
    "DATA_FILE = 'data/OxCGRT_latest.csv'\n",
    "latest_df = get_raw_data(DATA_FILE, latest=True)\n",
    "scenario_df = generate_scenario(start_date_str, end_date_str, latest_df, countries=None, scenario=\"Freeze\")\n",
    "scenario_file = \"predictions/180_days_future_scenario.csv\"\n",
    "scenario_df.to_csv(scenario_file, index=False)\n",
    "print(f\"Saved scenario to {scenario_file}\")"
   ]
  },
  {
   "cell_type": "markdown",
   "metadata": {},
   "source": [
    "### Check it"
   ]
  },
  {
   "cell_type": "code",
   "execution_count": null,
   "metadata": {},
   "outputs": [],
   "source": [
    "%%time\n",
    "validate(start_date=start_date_str,\n",
    "         end_date=end_date_str,\n",
    "         ip_file=scenario_file,\n",
    "         output_file=\"predictions/val_6_month_future.csv\")"
   ]
  },
  {
   "cell_type": "code",
   "execution_count": null,
   "metadata": {},
   "outputs": [],
   "source": []
  }
 ],
 "metadata": {
  "kernelspec": {
   "name": "python3",
   "display_name": "Python 3.7.9 64-bit ('venv')",
   "metadata": {
    "interpreter": {
     "hash": "72aa7907e726e8d04d999f945f887f230d22f05df97d1530ec2e882e4a50e7ee"
    }
   }
  },
  "language_info": {
   "codemirror_mode": {
    "name": "ipython",
    "version": 3
   },
   "file_extension": ".py",
   "mimetype": "text/x-python",
   "name": "python",
   "nbconvert_exporter": "python",
   "pygments_lexer": "ipython3",
   "version": "3.7.9-final"
  },
  "pycharm": {
   "stem_cell": {
    "cell_type": "raw",
    "metadata": {
     "collapsed": false
    },
    "source": [
     "# Copyright 2020 (c) Cognizant Digital Business, Evolutionary AI. All rights reserved. Issued under the Apache 2.0 License."
    ]
   }
  }
 },
 "nbformat": 4,
 "nbformat_minor": 4
}