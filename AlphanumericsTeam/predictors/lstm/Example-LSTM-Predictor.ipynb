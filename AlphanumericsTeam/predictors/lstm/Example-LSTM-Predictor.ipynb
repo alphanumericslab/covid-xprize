{
 "cells": [
  {
   "cell_type": "raw",
   "metadata": {},
   "source": [
    "# Copyright 2020 (c) Cognizant Digital Business, Evolutionary AI. All rights reserved. Issued under the Apache 2.0 License."
   ]
  },
  {
   "cell_type": "code",
   "execution_count": 23,
   "metadata": {},
   "outputs": [],
   "source": [
    "import os\n",
    "import pandas as pd\n",
    "import requests \n",
    "from AlphanumericsTeam.data.util import get_aug_oxford_df, filter_df_regions\n",
    "\n",
    "\n",
    "REPO_ROOT = os.path.abspath(os.path.join(os.path.abspath(''), os.pardir, os.pardir, os.pardir))"
   ]
  },
  {
   "cell_type": "code",
   "execution_count": 18,
   "metadata": {},
   "outputs": [],
   "source": [
    "NPI_COLUMNS = ['C1_School closing',\n",
    "               'C2_Workplace closing',\n",
    "               'C3_Cancel public events',\n",
    "               'C4_Restrictions on gatherings',\n",
    "               'C5_Close public transport',\n",
    "               'C6_Stay at home requirements',\n",
    "               'C7_Restrictions on internal movement',\n",
    "               'C8_International travel controls',\n",
    "               'H1_Public information campaigns',\n",
    "               'H2_Testing policy',\n",
    "               'H3_Contact tracing',\n",
    "               'H6_Facial Coverings']"
   ]
  },
  {
   "cell_type": "code",
   "execution_count": 20,
   "metadata": {},
   "outputs": [
    {
     "output_type": "execute_result",
     "data": {
      "text/plain": [
       "      CountryName RegionName       Date  C1_School closing  \\\n",
       "0           Aruba        NaN 2020-01-01                0.0   \n",
       "1           Aruba        NaN 2020-01-02                0.0   \n",
       "2           Aruba        NaN 2020-01-03                0.0   \n",
       "3           Aruba        NaN 2020-01-04                0.0   \n",
       "4           Aruba        NaN 2020-01-05                0.0   \n",
       "...           ...        ...        ...                ...   \n",
       "72605    Zimbabwe        NaN 2020-09-26                2.0   \n",
       "72606    Zimbabwe        NaN 2020-09-27                2.0   \n",
       "72607    Zimbabwe        NaN 2020-09-28                2.0   \n",
       "72608    Zimbabwe        NaN 2020-09-29                2.0   \n",
       "72609    Zimbabwe        NaN 2020-09-30                2.0   \n",
       "\n",
       "       C2_Workplace closing  C3_Cancel public events  \\\n",
       "0                       0.0                      0.0   \n",
       "1                       0.0                      0.0   \n",
       "2                       0.0                      0.0   \n",
       "3                       0.0                      0.0   \n",
       "4                       0.0                      0.0   \n",
       "...                     ...                      ...   \n",
       "72605                   1.0                      2.0   \n",
       "72606                   1.0                      2.0   \n",
       "72607                   1.0                      2.0   \n",
       "72608                   1.0                      2.0   \n",
       "72609                   1.0                      2.0   \n",
       "\n",
       "       C4_Restrictions on gatherings  C5_Close public transport  \\\n",
       "0                                0.0                        0.0   \n",
       "1                                0.0                        0.0   \n",
       "2                                0.0                        0.0   \n",
       "3                                0.0                        0.0   \n",
       "4                                0.0                        0.0   \n",
       "...                              ...                        ...   \n",
       "72605                            3.0                        1.0   \n",
       "72606                            3.0                        1.0   \n",
       "72607                            3.0                        1.0   \n",
       "72608                            3.0                        1.0   \n",
       "72609                            3.0                        1.0   \n",
       "\n",
       "       C6_Stay at home requirements  C7_Restrictions on internal movement  \\\n",
       "0                               0.0                                   0.0   \n",
       "1                               0.0                                   0.0   \n",
       "2                               0.0                                   0.0   \n",
       "3                               0.0                                   0.0   \n",
       "4                               0.0                                   0.0   \n",
       "...                             ...                                   ...   \n",
       "72605                           2.0                                   2.0   \n",
       "72606                           2.0                                   2.0   \n",
       "72607                           2.0                                   2.0   \n",
       "72608                           2.0                                   2.0   \n",
       "72609                           2.0                                   2.0   \n",
       "\n",
       "       C8_International travel controls  H1_Public information campaigns  \\\n",
       "0                                   0.0                              0.0   \n",
       "1                                   0.0                              0.0   \n",
       "2                                   0.0                              0.0   \n",
       "3                                   0.0                              0.0   \n",
       "4                                   0.0                              0.0   \n",
       "...                                 ...                              ...   \n",
       "72605                               4.0                              2.0   \n",
       "72606                               4.0                              2.0   \n",
       "72607                               4.0                              2.0   \n",
       "72608                               4.0                              2.0   \n",
       "72609                               4.0                              2.0   \n",
       "\n",
       "       H2_Testing policy  H3_Contact tracing  H6_Facial Coverings  \n",
       "0                    0.0                 0.0                  0.0  \n",
       "1                    0.0                 0.0                  0.0  \n",
       "2                    0.0                 0.0                  0.0  \n",
       "3                    0.0                 0.0                  0.0  \n",
       "4                    0.0                 0.0                  0.0  \n",
       "...                  ...                 ...                  ...  \n",
       "72605                1.0                 1.0                  3.0  \n",
       "72606                1.0                 1.0                  3.0  \n",
       "72607                1.0                 1.0                  3.0  \n",
       "72608                1.0                 1.0                  1.0  \n",
       "72609                1.0                 1.0                  1.0  \n",
       "\n",
       "[72610 rows x 15 columns]"
      ],
      "text/html": "<div>\n<style scoped>\n    .dataframe tbody tr th:only-of-type {\n        vertical-align: middle;\n    }\n\n    .dataframe tbody tr th {\n        vertical-align: top;\n    }\n\n    .dataframe thead th {\n        text-align: right;\n    }\n</style>\n<table border=\"1\" class=\"dataframe\">\n  <thead>\n    <tr style=\"text-align: right;\">\n      <th></th>\n      <th>CountryName</th>\n      <th>RegionName</th>\n      <th>Date</th>\n      <th>C1_School closing</th>\n      <th>C2_Workplace closing</th>\n      <th>C3_Cancel public events</th>\n      <th>C4_Restrictions on gatherings</th>\n      <th>C5_Close public transport</th>\n      <th>C6_Stay at home requirements</th>\n      <th>C7_Restrictions on internal movement</th>\n      <th>C8_International travel controls</th>\n      <th>H1_Public information campaigns</th>\n      <th>H2_Testing policy</th>\n      <th>H3_Contact tracing</th>\n      <th>H6_Facial Coverings</th>\n    </tr>\n  </thead>\n  <tbody>\n    <tr>\n      <th>0</th>\n      <td>Aruba</td>\n      <td>NaN</td>\n      <td>2020-01-01</td>\n      <td>0.0</td>\n      <td>0.0</td>\n      <td>0.0</td>\n      <td>0.0</td>\n      <td>0.0</td>\n      <td>0.0</td>\n      <td>0.0</td>\n      <td>0.0</td>\n      <td>0.0</td>\n      <td>0.0</td>\n      <td>0.0</td>\n      <td>0.0</td>\n    </tr>\n    <tr>\n      <th>1</th>\n      <td>Aruba</td>\n      <td>NaN</td>\n      <td>2020-01-02</td>\n      <td>0.0</td>\n      <td>0.0</td>\n      <td>0.0</td>\n      <td>0.0</td>\n      <td>0.0</td>\n      <td>0.0</td>\n      <td>0.0</td>\n      <td>0.0</td>\n      <td>0.0</td>\n      <td>0.0</td>\n      <td>0.0</td>\n      <td>0.0</td>\n    </tr>\n    <tr>\n      <th>2</th>\n      <td>Aruba</td>\n      <td>NaN</td>\n      <td>2020-01-03</td>\n      <td>0.0</td>\n      <td>0.0</td>\n      <td>0.0</td>\n      <td>0.0</td>\n      <td>0.0</td>\n      <td>0.0</td>\n      <td>0.0</td>\n      <td>0.0</td>\n      <td>0.0</td>\n      <td>0.0</td>\n      <td>0.0</td>\n      <td>0.0</td>\n    </tr>\n    <tr>\n      <th>3</th>\n      <td>Aruba</td>\n      <td>NaN</td>\n      <td>2020-01-04</td>\n      <td>0.0</td>\n      <td>0.0</td>\n      <td>0.0</td>\n      <td>0.0</td>\n      <td>0.0</td>\n      <td>0.0</td>\n      <td>0.0</td>\n      <td>0.0</td>\n      <td>0.0</td>\n      <td>0.0</td>\n      <td>0.0</td>\n      <td>0.0</td>\n    </tr>\n    <tr>\n      <th>4</th>\n      <td>Aruba</td>\n      <td>NaN</td>\n      <td>2020-01-05</td>\n      <td>0.0</td>\n      <td>0.0</td>\n      <td>0.0</td>\n      <td>0.0</td>\n      <td>0.0</td>\n      <td>0.0</td>\n      <td>0.0</td>\n      <td>0.0</td>\n      <td>0.0</td>\n      <td>0.0</td>\n      <td>0.0</td>\n      <td>0.0</td>\n    </tr>\n    <tr>\n      <th>...</th>\n      <td>...</td>\n      <td>...</td>\n      <td>...</td>\n      <td>...</td>\n      <td>...</td>\n      <td>...</td>\n      <td>...</td>\n      <td>...</td>\n      <td>...</td>\n      <td>...</td>\n      <td>...</td>\n      <td>...</td>\n      <td>...</td>\n      <td>...</td>\n      <td>...</td>\n    </tr>\n    <tr>\n      <th>72605</th>\n      <td>Zimbabwe</td>\n      <td>NaN</td>\n      <td>2020-09-26</td>\n      <td>2.0</td>\n      <td>1.0</td>\n      <td>2.0</td>\n      <td>3.0</td>\n      <td>1.0</td>\n      <td>2.0</td>\n      <td>2.0</td>\n      <td>4.0</td>\n      <td>2.0</td>\n      <td>1.0</td>\n      <td>1.0</td>\n      <td>3.0</td>\n    </tr>\n    <tr>\n      <th>72606</th>\n      <td>Zimbabwe</td>\n      <td>NaN</td>\n      <td>2020-09-27</td>\n      <td>2.0</td>\n      <td>1.0</td>\n      <td>2.0</td>\n      <td>3.0</td>\n      <td>1.0</td>\n      <td>2.0</td>\n      <td>2.0</td>\n      <td>4.0</td>\n      <td>2.0</td>\n      <td>1.0</td>\n      <td>1.0</td>\n      <td>3.0</td>\n    </tr>\n    <tr>\n      <th>72607</th>\n      <td>Zimbabwe</td>\n      <td>NaN</td>\n      <td>2020-09-28</td>\n      <td>2.0</td>\n      <td>1.0</td>\n      <td>2.0</td>\n      <td>3.0</td>\n      <td>1.0</td>\n      <td>2.0</td>\n      <td>2.0</td>\n      <td>4.0</td>\n      <td>2.0</td>\n      <td>1.0</td>\n      <td>1.0</td>\n      <td>3.0</td>\n    </tr>\n    <tr>\n      <th>72608</th>\n      <td>Zimbabwe</td>\n      <td>NaN</td>\n      <td>2020-09-29</td>\n      <td>2.0</td>\n      <td>1.0</td>\n      <td>2.0</td>\n      <td>3.0</td>\n      <td>1.0</td>\n      <td>2.0</td>\n      <td>2.0</td>\n      <td>4.0</td>\n      <td>2.0</td>\n      <td>1.0</td>\n      <td>1.0</td>\n      <td>1.0</td>\n    </tr>\n    <tr>\n      <th>72609</th>\n      <td>Zimbabwe</td>\n      <td>NaN</td>\n      <td>2020-09-30</td>\n      <td>2.0</td>\n      <td>1.0</td>\n      <td>2.0</td>\n      <td>3.0</td>\n      <td>1.0</td>\n      <td>2.0</td>\n      <td>2.0</td>\n      <td>4.0</td>\n      <td>2.0</td>\n      <td>1.0</td>\n      <td>1.0</td>\n      <td>1.0</td>\n    </tr>\n  </tbody>\n</table>\n<p>72610 rows × 15 columns</p>\n</div>"
     },
     "metadata": {},
     "execution_count": 20
    }
   ],
   "source": [
    "EXAMPLE_INPUT_FILE = os.path.join(REPO_ROOT, \"covid_xprize/validation/data/2020-09-30_historical_ip.csv\")\n",
    "prediction_input_df = pd.read_csv(EXAMPLE_INPUT_FILE,\n",
    "                                  parse_dates=['Date'],\n",
    "                                  dtype={\"RegionName\": str},\n",
    "                                  encoding=\"ISO-8859-1\")\n",
    "\n",
    "prediction_input_df"
   ]
  },
  {
   "cell_type": "code",
   "execution_count": 22,
   "metadata": {},
   "outputs": [
    {
     "output_type": "execute_result",
     "data": {
      "text/plain": [
       "     CountryName RegionName       Date  PredictedDailyNewCases\n",
       "0          Aruba        NaN 2020-08-01                0.820071\n",
       "1          Aruba        NaN 2020-08-02                0.872854\n",
       "2          Aruba        NaN 2020-08-03                0.000000\n",
       "3          Aruba        NaN 2020-08-04                0.000000\n",
       "4    Afghanistan        NaN 2020-08-01               80.590128\n",
       "..           ...        ...        ...                     ...\n",
       "763       Zambia        NaN 2020-08-04              172.532764\n",
       "764     Zimbabwe        NaN 2020-08-01              178.485848\n",
       "765     Zimbabwe        NaN 2020-08-02              142.449493\n",
       "766     Zimbabwe        NaN 2020-08-03               84.436329\n",
       "767     Zimbabwe        NaN 2020-08-04              199.259844\n",
       "\n",
       "[768 rows x 4 columns]"
      ],
      "text/html": "<div>\n<style scoped>\n    .dataframe tbody tr th:only-of-type {\n        vertical-align: middle;\n    }\n\n    .dataframe tbody tr th {\n        vertical-align: top;\n    }\n\n    .dataframe thead th {\n        text-align: right;\n    }\n</style>\n<table border=\"1\" class=\"dataframe\">\n  <thead>\n    <tr style=\"text-align: right;\">\n      <th></th>\n      <th>CountryName</th>\n      <th>RegionName</th>\n      <th>Date</th>\n      <th>PredictedDailyNewCases</th>\n    </tr>\n  </thead>\n  <tbody>\n    <tr>\n      <th>0</th>\n      <td>Aruba</td>\n      <td>NaN</td>\n      <td>2020-08-01</td>\n      <td>0.820071</td>\n    </tr>\n    <tr>\n      <th>1</th>\n      <td>Aruba</td>\n      <td>NaN</td>\n      <td>2020-08-02</td>\n      <td>0.872854</td>\n    </tr>\n    <tr>\n      <th>2</th>\n      <td>Aruba</td>\n      <td>NaN</td>\n      <td>2020-08-03</td>\n      <td>0.000000</td>\n    </tr>\n    <tr>\n      <th>3</th>\n      <td>Aruba</td>\n      <td>NaN</td>\n      <td>2020-08-04</td>\n      <td>0.000000</td>\n    </tr>\n    <tr>\n      <th>4</th>\n      <td>Afghanistan</td>\n      <td>NaN</td>\n      <td>2020-08-01</td>\n      <td>80.590128</td>\n    </tr>\n    <tr>\n      <th>...</th>\n      <td>...</td>\n      <td>...</td>\n      <td>...</td>\n      <td>...</td>\n    </tr>\n    <tr>\n      <th>763</th>\n      <td>Zambia</td>\n      <td>NaN</td>\n      <td>2020-08-04</td>\n      <td>172.532764</td>\n    </tr>\n    <tr>\n      <th>764</th>\n      <td>Zimbabwe</td>\n      <td>NaN</td>\n      <td>2020-08-01</td>\n      <td>178.485848</td>\n    </tr>\n    <tr>\n      <th>765</th>\n      <td>Zimbabwe</td>\n      <td>NaN</td>\n      <td>2020-08-02</td>\n      <td>142.449493</td>\n    </tr>\n    <tr>\n      <th>766</th>\n      <td>Zimbabwe</td>\n      <td>NaN</td>\n      <td>2020-08-03</td>\n      <td>84.436329</td>\n    </tr>\n    <tr>\n      <th>767</th>\n      <td>Zimbabwe</td>\n      <td>NaN</td>\n      <td>2020-08-04</td>\n      <td>199.259844</td>\n    </tr>\n  </tbody>\n</table>\n<p>768 rows × 4 columns</p>\n</div>"
     },
     "metadata": {},
     "execution_count": 22
    }
   ],
   "source": [
    "EXAMPLE_OUTPUT_FILE = os.path.join(REPO_ROOT, \"2020-08-01_2020-08-04_predictions_example.csv\")\n",
    "prediction_output_df = pd.read_csv(EXAMPLE_OUTPUT_FILE,\n",
    "                                   parse_dates=['Date'],\n",
    "                                   encoding=\"ISO-8859-1\")                           "
   ]
  },
  {
   "cell_type": "code",
   "execution_count": 24,
   "metadata": {},
   "outputs": [],
   "source": [
    "DATA_URL = 'https://raw.githubusercontent.com/OxCGRT/covid-policy-tracker/master/data/OxCGRT_latest.csv'\n",
    "df = pd.read_csv(DATA_URL,\n",
    "                 parse_dates=['Date'],\n",
    "                 encoding=\"ISO-8859-1\",\n",
    "                 dtype={\"RegionName\": str,\n",
    "                        \"RegionCode\": str},\n",
    "                 error_bad_lines=False)\n",
    "\n",
    "# Has 6 additional columns \n",
    "# 'New Cases' \n",
    "# 'GeoID' \n",
    "# 'Holidays' \n",
    "# 'pop_2020' \n",
    "# 'area_km2' \n",
    "# 'density_perkm2'\n",
    "df = get_aug_oxford_df() \n",
    "df = filter_df_regions(df)\n",
    "assert df.CountryName.unique().size == 180\n",
    "assert df.RegionName.unique().size == 56 + 1 "
   ]
  },
  {
   "cell_type": "code",
   "execution_count": 25,
   "metadata": {},
   "outputs": [
    {
     "output_type": "execute_result",
     "data": {
      "text/plain": [
       "         CountryName CountryCode RegionName RegionCode Jurisdiction  \\\n",
       "46006        Jamaica         JAM                   NaN    NAT_TOTAL   \n",
       "50694        Lesotho         LSO                   NaN    NAT_TOTAL   \n",
       "83553  United States         USA    Indiana      US_IN  STATE_TOTAL   \n",
       "\n",
       "            Date  C1_School closing  C1_Flag  C2_Workplace closing  C2_Flag  \\\n",
       "46006 2020-11-06                2.0      1.0                   1.0      1.0   \n",
       "50694 2020-01-01                0.0      NaN                   0.0      NaN   \n",
       "83553 2020-01-16                0.0      NaN                   0.0      NaN   \n",
       "\n",
       "       ...  ContainmentHealthIndex  ContainmentHealthIndexForDisplay  \\\n",
       "46006  ...                   67.95                             67.95   \n",
       "50694  ...                    0.00                              0.00   \n",
       "83553  ...                    0.00                              0.00   \n",
       "\n",
       "       EconomicSupportIndex  EconomicSupportIndexForDisplay  NewCases  \\\n",
       "46006                  50.0                            50.0      53.0   \n",
       "50694                   0.0                             0.0       0.0   \n",
       "83553                   0.0                             0.0       0.0   \n",
       "\n",
       "                        GeoID  Holidays   pop_2020  area_km2  density_perkm2  \n",
       "46006               Jamaica__       0.0  2961167.0   10991.0           269.0  \n",
       "50694               Lesotho__       0.0  2142249.0   30355.0            71.0  \n",
       "83553  United States__Indiana       0.0  6745350.0   92784.0            73.0  \n",
       "\n",
       "[3 rows x 55 columns]"
      ],
      "text/html": "<div>\n<style scoped>\n    .dataframe tbody tr th:only-of-type {\n        vertical-align: middle;\n    }\n\n    .dataframe tbody tr th {\n        vertical-align: top;\n    }\n\n    .dataframe thead th {\n        text-align: right;\n    }\n</style>\n<table border=\"1\" class=\"dataframe\">\n  <thead>\n    <tr style=\"text-align: right;\">\n      <th></th>\n      <th>CountryName</th>\n      <th>CountryCode</th>\n      <th>RegionName</th>\n      <th>RegionCode</th>\n      <th>Jurisdiction</th>\n      <th>Date</th>\n      <th>C1_School closing</th>\n      <th>C1_Flag</th>\n      <th>C2_Workplace closing</th>\n      <th>C2_Flag</th>\n      <th>...</th>\n      <th>ContainmentHealthIndex</th>\n      <th>ContainmentHealthIndexForDisplay</th>\n      <th>EconomicSupportIndex</th>\n      <th>EconomicSupportIndexForDisplay</th>\n      <th>NewCases</th>\n      <th>GeoID</th>\n      <th>Holidays</th>\n      <th>pop_2020</th>\n      <th>area_km2</th>\n      <th>density_perkm2</th>\n    </tr>\n  </thead>\n  <tbody>\n    <tr>\n      <th>46006</th>\n      <td>Jamaica</td>\n      <td>JAM</td>\n      <td></td>\n      <td>NaN</td>\n      <td>NAT_TOTAL</td>\n      <td>2020-11-06</td>\n      <td>2.0</td>\n      <td>1.0</td>\n      <td>1.0</td>\n      <td>1.0</td>\n      <td>...</td>\n      <td>67.95</td>\n      <td>67.95</td>\n      <td>50.0</td>\n      <td>50.0</td>\n      <td>53.0</td>\n      <td>Jamaica__</td>\n      <td>0.0</td>\n      <td>2961167.0</td>\n      <td>10991.0</td>\n      <td>269.0</td>\n    </tr>\n    <tr>\n      <th>50694</th>\n      <td>Lesotho</td>\n      <td>LSO</td>\n      <td></td>\n      <td>NaN</td>\n      <td>NAT_TOTAL</td>\n      <td>2020-01-01</td>\n      <td>0.0</td>\n      <td>NaN</td>\n      <td>0.0</td>\n      <td>NaN</td>\n      <td>...</td>\n      <td>0.00</td>\n      <td>0.00</td>\n      <td>0.0</td>\n      <td>0.0</td>\n      <td>0.0</td>\n      <td>Lesotho__</td>\n      <td>0.0</td>\n      <td>2142249.0</td>\n      <td>30355.0</td>\n      <td>71.0</td>\n    </tr>\n    <tr>\n      <th>83553</th>\n      <td>United States</td>\n      <td>USA</td>\n      <td>Indiana</td>\n      <td>US_IN</td>\n      <td>STATE_TOTAL</td>\n      <td>2020-01-16</td>\n      <td>0.0</td>\n      <td>NaN</td>\n      <td>0.0</td>\n      <td>NaN</td>\n      <td>...</td>\n      <td>0.00</td>\n      <td>0.00</td>\n      <td>0.0</td>\n      <td>0.0</td>\n      <td>0.0</td>\n      <td>United States__Indiana</td>\n      <td>0.0</td>\n      <td>6745350.0</td>\n      <td>92784.0</td>\n      <td>73.0</td>\n    </tr>\n  </tbody>\n</table>\n<p>3 rows × 55 columns</p>\n</div>"
     },
     "metadata": {},
     "execution_count": 25
    }
   ],
   "source": [
    "df.sample(3)"
   ]
  },
  {
   "cell_type": "code",
   "execution_count": 26,
   "metadata": {},
   "outputs": [],
   "source": [
    "df[\"DailyChangeConfirmedCases\"] = df.groupby([\"CountryName\", \"RegionName\"]).ConfirmedCases.diff().fillna(0)"
   ]
  },
  {
   "cell_type": "code",
   "execution_count": 27,
   "metadata": {},
   "outputs": [],
   "source": [
    "california_df = df[(df.CountryName == \"United States\") & (df.RegionName == \"California\")]"
   ]
  },
  {
   "cell_type": "code",
   "execution_count": 29,
   "metadata": {},
   "outputs": [
    {
     "output_type": "execute_result",
     "data": {
      "text/plain": [
       "         CountryName  RegionName       Date  ConfirmedCases  \\\n",
       "79963  United States  California 2020-12-18       1802195.0   \n",
       "79964  United States  California 2020-12-19       1842557.0   \n",
       "79965  United States  California 2020-12-20       1884033.0   \n",
       "79966  United States  California 2020-12-21       1923887.0   \n",
       "79967  United States  California 2020-12-22             NaN   \n",
       "\n",
       "       DailyChangeConfirmedCases  \n",
       "79963                    48221.0  \n",
       "79964                    40362.0  \n",
       "79965                    41476.0  \n",
       "79966                    39854.0  \n",
       "79967                        0.0  "
      ],
      "text/html": "<div>\n<style scoped>\n    .dataframe tbody tr th:only-of-type {\n        vertical-align: middle;\n    }\n\n    .dataframe tbody tr th {\n        vertical-align: top;\n    }\n\n    .dataframe thead th {\n        text-align: right;\n    }\n</style>\n<table border=\"1\" class=\"dataframe\">\n  <thead>\n    <tr style=\"text-align: right;\">\n      <th></th>\n      <th>CountryName</th>\n      <th>RegionName</th>\n      <th>Date</th>\n      <th>ConfirmedCases</th>\n      <th>DailyChangeConfirmedCases</th>\n    </tr>\n  </thead>\n  <tbody>\n    <tr>\n      <th>79963</th>\n      <td>United States</td>\n      <td>California</td>\n      <td>2020-12-18</td>\n      <td>1802195.0</td>\n      <td>48221.0</td>\n    </tr>\n    <tr>\n      <th>79964</th>\n      <td>United States</td>\n      <td>California</td>\n      <td>2020-12-19</td>\n      <td>1842557.0</td>\n      <td>40362.0</td>\n    </tr>\n    <tr>\n      <th>79965</th>\n      <td>United States</td>\n      <td>California</td>\n      <td>2020-12-20</td>\n      <td>1884033.0</td>\n      <td>41476.0</td>\n    </tr>\n    <tr>\n      <th>79966</th>\n      <td>United States</td>\n      <td>California</td>\n      <td>2020-12-21</td>\n      <td>1923887.0</td>\n      <td>39854.0</td>\n    </tr>\n    <tr>\n      <th>79967</th>\n      <td>United States</td>\n      <td>California</td>\n      <td>2020-12-22</td>\n      <td>NaN</td>\n      <td>0.0</td>\n    </tr>\n  </tbody>\n</table>\n</div>"
     },
     "metadata": {},
     "execution_count": 29
    }
   ],
   "source": [
    "california_df[[\"CountryName\", \"RegionName\", \"Date\", \"ConfirmedCases\", \"DailyChangeConfirmedCases\"]].tail(5)"
   ]
  },
  {
   "cell_type": "code",
   "execution_count": 30,
   "metadata": {},
   "outputs": [],
   "source": [
    "# Reload the module to get the latest changes\n",
    "import xprize_predictor\n",
    "from importlib import reload\n",
    "reload(xprize_predictor)\n",
    "from xprize_predictor import XPrizePredictor"
   ]
  },
  {
   "cell_type": "code",
   "execution_count": 32,
   "metadata": {},
   "outputs": [
    {
     "output_type": "error",
     "ename": "ValueError",
     "evalue": "Invalid file path or buffer object type: <class 'pandas.core.frame.DataFrame'>",
     "traceback": [
      "\u001b[0;31m---------------------------------------------------------------------------\u001b[0m",
      "\u001b[0;31mValueError\u001b[0m                                Traceback (most recent call last)",
      "\u001b[0;32m<ipython-input-32-c94826f2c937>\u001b[0m in \u001b[0;36m<module>\u001b[0;34m\u001b[0m\n\u001b[0;32m----> 1\u001b[0;31m \u001b[0mpredictor\u001b[0m \u001b[0;34m=\u001b[0m \u001b[0mXPrizePredictor\u001b[0m\u001b[0;34m(\u001b[0m\u001b[0;32mNone\u001b[0m\u001b[0;34m,\u001b[0m \u001b[0mdf\u001b[0m\u001b[0;34m)\u001b[0m\u001b[0;34m\u001b[0m\u001b[0;34m\u001b[0m\u001b[0m\n\u001b[0m",
      "\u001b[0;32m~/git/covid-xprize/AlphanumericsTeam/predictors/lstm/xprize_predictor.py\u001b[0m in \u001b[0;36m__init__\u001b[0;34m(self, path_to_model_weights, data_url)\u001b[0m\n\u001b[1;32m     97\u001b[0m                 \u001b[0murllib\u001b[0m\u001b[0;34m.\u001b[0m\u001b[0mrequest\u001b[0m\u001b[0;34m.\u001b[0m\u001b[0murlretrieve\u001b[0m\u001b[0;34m(\u001b[0m\u001b[0mDATA_URL\u001b[0m\u001b[0;34m,\u001b[0m \u001b[0mDATA_FILE_PATH\u001b[0m\u001b[0;34m)\u001b[0m\u001b[0;34m\u001b[0m\u001b[0;34m\u001b[0m\u001b[0m\n\u001b[1;32m     98\u001b[0m \u001b[0;34m\u001b[0m\u001b[0m\n\u001b[0;32m---> 99\u001b[0;31m         \u001b[0mself\u001b[0m\u001b[0;34m.\u001b[0m\u001b[0mdf\u001b[0m \u001b[0;34m=\u001b[0m \u001b[0mself\u001b[0m\u001b[0;34m.\u001b[0m\u001b[0m_prepare_dataframe\u001b[0m\u001b[0;34m(\u001b[0m\u001b[0mdata_url\u001b[0m\u001b[0;34m)\u001b[0m\u001b[0;34m\u001b[0m\u001b[0;34m\u001b[0m\u001b[0m\n\u001b[0m\u001b[1;32m    100\u001b[0m         \u001b[0mgeos\u001b[0m \u001b[0;34m=\u001b[0m \u001b[0mself\u001b[0m\u001b[0;34m.\u001b[0m\u001b[0mdf\u001b[0m\u001b[0;34m.\u001b[0m\u001b[0mGeoID\u001b[0m\u001b[0;34m.\u001b[0m\u001b[0munique\u001b[0m\u001b[0;34m(\u001b[0m\u001b[0;34m)\u001b[0m\u001b[0;34m\u001b[0m\u001b[0;34m\u001b[0m\u001b[0m\n\u001b[1;32m    101\u001b[0m         \u001b[0mself\u001b[0m\u001b[0;34m.\u001b[0m\u001b[0mcountry_samples\u001b[0m \u001b[0;34m=\u001b[0m \u001b[0mself\u001b[0m\u001b[0;34m.\u001b[0m\u001b[0m_create_country_samples\u001b[0m\u001b[0;34m(\u001b[0m\u001b[0mself\u001b[0m\u001b[0;34m.\u001b[0m\u001b[0mdf\u001b[0m\u001b[0;34m,\u001b[0m \u001b[0mgeos\u001b[0m\u001b[0;34m)\u001b[0m\u001b[0;34m\u001b[0m\u001b[0;34m\u001b[0m\u001b[0m\n",
      "\u001b[0;32m~/git/covid-xprize/AlphanumericsTeam/predictors/lstm/xprize_predictor.py\u001b[0m in \u001b[0;36m_prepare_dataframe\u001b[0;34m(self, data_url)\u001b[0m\n\u001b[1;32m    183\u001b[0m         \"\"\"\n\u001b[1;32m    184\u001b[0m         \u001b[0;31m# Original df from Oxford\u001b[0m\u001b[0;34m\u001b[0m\u001b[0;34m\u001b[0m\u001b[0;34m\u001b[0m\u001b[0m\n\u001b[0;32m--> 185\u001b[0;31m         \u001b[0mdf1\u001b[0m \u001b[0;34m=\u001b[0m \u001b[0mself\u001b[0m\u001b[0;34m.\u001b[0m\u001b[0m_load_original_data\u001b[0m\u001b[0;34m(\u001b[0m\u001b[0mdata_url\u001b[0m\u001b[0;34m)\u001b[0m\u001b[0;34m\u001b[0m\u001b[0;34m\u001b[0m\u001b[0m\n\u001b[0m\u001b[1;32m    186\u001b[0m \u001b[0;34m\u001b[0m\u001b[0m\n\u001b[1;32m    187\u001b[0m         \u001b[0;31m# Additional context df (e.g Population for each country)\u001b[0m\u001b[0;34m\u001b[0m\u001b[0;34m\u001b[0m\u001b[0;34m\u001b[0m\u001b[0m\n",
      "\u001b[0;32m~/git/covid-xprize/AlphanumericsTeam/predictors/lstm/xprize_predictor.py\u001b[0m in \u001b[0;36m_load_original_data\u001b[0;34m(data_url)\u001b[0m\n\u001b[1;32m    236\u001b[0m                                 dtype={\"RegionName\": str,\n\u001b[1;32m    237\u001b[0m                                        \"RegionCode\": str},\n\u001b[0;32m--> 238\u001b[0;31m                                 error_bad_lines=False)\n\u001b[0m\u001b[1;32m    239\u001b[0m         \u001b[0;31m# GeoID is CountryName / RegionName\u001b[0m\u001b[0;34m\u001b[0m\u001b[0;34m\u001b[0m\u001b[0;34m\u001b[0m\u001b[0m\n\u001b[1;32m    240\u001b[0m         \u001b[0;31m# np.where usage: if A then B else C\u001b[0m\u001b[0;34m\u001b[0m\u001b[0;34m\u001b[0m\u001b[0;34m\u001b[0m\u001b[0m\n",
      "\u001b[0;32m~/git/covid-xprize/venv/lib/python3.7/site-packages/pandas/io/parsers.py\u001b[0m in \u001b[0;36mread_csv\u001b[0;34m(filepath_or_buffer, sep, delimiter, header, names, index_col, usecols, squeeze, prefix, mangle_dupe_cols, dtype, engine, converters, true_values, false_values, skipinitialspace, skiprows, skipfooter, nrows, na_values, keep_default_na, na_filter, verbose, skip_blank_lines, parse_dates, infer_datetime_format, keep_date_col, date_parser, dayfirst, cache_dates, iterator, chunksize, compression, thousands, decimal, lineterminator, quotechar, quoting, doublequote, escapechar, comment, encoding, dialect, error_bad_lines, warn_bad_lines, delim_whitespace, low_memory, memory_map, float_precision)\u001b[0m\n\u001b[1;32m    684\u001b[0m     )\n\u001b[1;32m    685\u001b[0m \u001b[0;34m\u001b[0m\u001b[0m\n\u001b[0;32m--> 686\u001b[0;31m     \u001b[0;32mreturn\u001b[0m \u001b[0m_read\u001b[0m\u001b[0;34m(\u001b[0m\u001b[0mfilepath_or_buffer\u001b[0m\u001b[0;34m,\u001b[0m \u001b[0mkwds\u001b[0m\u001b[0;34m)\u001b[0m\u001b[0;34m\u001b[0m\u001b[0;34m\u001b[0m\u001b[0m\n\u001b[0m\u001b[1;32m    687\u001b[0m \u001b[0;34m\u001b[0m\u001b[0m\n\u001b[1;32m    688\u001b[0m \u001b[0;34m\u001b[0m\u001b[0m\n",
      "\u001b[0;32m~/git/covid-xprize/venv/lib/python3.7/site-packages/pandas/io/parsers.py\u001b[0m in \u001b[0;36m_read\u001b[0;34m(filepath_or_buffer, kwds)\u001b[0m\n\u001b[1;32m    433\u001b[0m     \u001b[0;31m# See https://github.com/python/mypy/issues/1297\u001b[0m\u001b[0;34m\u001b[0m\u001b[0;34m\u001b[0m\u001b[0;34m\u001b[0m\u001b[0m\n\u001b[1;32m    434\u001b[0m     fp_or_buf, _, compression, should_close = get_filepath_or_buffer(\n\u001b[0;32m--> 435\u001b[0;31m         \u001b[0mfilepath_or_buffer\u001b[0m\u001b[0;34m,\u001b[0m \u001b[0mencoding\u001b[0m\u001b[0;34m,\u001b[0m \u001b[0mcompression\u001b[0m\u001b[0;34m\u001b[0m\u001b[0;34m\u001b[0m\u001b[0m\n\u001b[0m\u001b[1;32m    436\u001b[0m     )\n\u001b[1;32m    437\u001b[0m     \u001b[0mkwds\u001b[0m\u001b[0;34m[\u001b[0m\u001b[0;34m\"compression\"\u001b[0m\u001b[0;34m]\u001b[0m \u001b[0;34m=\u001b[0m \u001b[0mcompression\u001b[0m\u001b[0;34m\u001b[0m\u001b[0;34m\u001b[0m\u001b[0m\n",
      "\u001b[0;32m~/git/covid-xprize/venv/lib/python3.7/site-packages/pandas/io/common.py\u001b[0m in \u001b[0;36mget_filepath_or_buffer\u001b[0;34m(filepath_or_buffer, encoding, compression, mode, storage_options)\u001b[0m\n\u001b[1;32m    241\u001b[0m     \u001b[0;32mif\u001b[0m \u001b[0;32mnot\u001b[0m \u001b[0mis_file_like\u001b[0m\u001b[0;34m(\u001b[0m\u001b[0mfilepath_or_buffer\u001b[0m\u001b[0;34m)\u001b[0m\u001b[0;34m:\u001b[0m\u001b[0;34m\u001b[0m\u001b[0;34m\u001b[0m\u001b[0m\n\u001b[1;32m    242\u001b[0m         \u001b[0mmsg\u001b[0m \u001b[0;34m=\u001b[0m \u001b[0;34mf\"Invalid file path or buffer object type: {type(filepath_or_buffer)}\"\u001b[0m\u001b[0;34m\u001b[0m\u001b[0;34m\u001b[0m\u001b[0m\n\u001b[0;32m--> 243\u001b[0;31m         \u001b[0;32mraise\u001b[0m \u001b[0mValueError\u001b[0m\u001b[0;34m(\u001b[0m\u001b[0mmsg\u001b[0m\u001b[0;34m)\u001b[0m\u001b[0;34m\u001b[0m\u001b[0;34m\u001b[0m\u001b[0m\n\u001b[0m\u001b[1;32m    244\u001b[0m \u001b[0;34m\u001b[0m\u001b[0m\n\u001b[1;32m    245\u001b[0m     \u001b[0;32mreturn\u001b[0m \u001b[0mfilepath_or_buffer\u001b[0m\u001b[0;34m,\u001b[0m \u001b[0;32mNone\u001b[0m\u001b[0;34m,\u001b[0m \u001b[0mcompression\u001b[0m\u001b[0;34m,\u001b[0m \u001b[0;32mFalse\u001b[0m\u001b[0;34m\u001b[0m\u001b[0;34m\u001b[0m\u001b[0m\n",
      "\u001b[0;31mValueError\u001b[0m: Invalid file path or buffer object type: <class 'pandas.core.frame.DataFrame'>"
     ]
    }
   ],
   "source": [
    "predictor = XPrizePredictor(None, df)"
   ]
  },
  {
   "cell_type": "code",
   "execution_count": null,
   "metadata": {},
   "outputs": [],
   "source": [
    "%%time\n",
    "predictor_model = predictor.train()"
   ]
  },
  {
   "cell_type": "code",
   "execution_count": null,
   "metadata": {},
   "outputs": [],
   "source": [
    "if not os.path.exists('models'):\n",
    "    os.mkdir('models')\n",
    "predictor_model.save_weights(\"models/trained_model_weights.h5\")"
   ]
  },
  {
   "cell_type": "markdown",
   "metadata": {},
   "source": [
    "# Predicting using a trained model"
   ]
  },
  {
   "cell_type": "markdown",
   "metadata": {},
   "source": [
    "## Load candidate model"
   ]
  },
  {
   "cell_type": "code",
   "execution_count": null,
   "metadata": {},
   "outputs": [],
   "source": [
    "model_weights_file = \"models/trained_model_weights.h5\""
   ]
  },
  {
   "cell_type": "code",
   "execution_count": null,
   "metadata": {},
   "outputs": [],
   "source": [
    "predictor = XPrizePredictor(model_weights_file, DATA_FILE)"
   ]
  },
  {
   "cell_type": "markdown",
   "metadata": {},
   "source": [
    "## Make prediction"
   ]
  },
  {
   "cell_type": "code",
   "execution_count": null,
   "metadata": {},
   "outputs": [],
   "source": [
    "NPIS_INPUT_FILE = \"../../../validation/data/2020-09-30_historical_ip.csv\"\n",
    "start_date = \"2020-08-01\"\n",
    "end_date = \"2020-08-31\""
   ]
  },
  {
   "cell_type": "code",
   "execution_count": null,
   "metadata": {},
   "outputs": [],
   "source": [
    "%%time\n",
    "preds_df = predictor.predict(start_date, end_date, NPIS_INPUT_FILE)"
   ]
  },
  {
   "cell_type": "code",
   "execution_count": null,
   "metadata": {},
   "outputs": [],
   "source": [
    "preds_df.head()"
   ]
  },
  {
   "cell_type": "markdown",
   "metadata": {},
   "source": [
    "# Validation\n",
    "This is how the predictor is going to be called during the competition.  \n",
    "!!! PLEASE DO NOT CHANGE THE API !!!"
   ]
  },
  {
   "cell_type": "code",
   "execution_count": null,
   "metadata": {},
   "outputs": [],
   "source": [
    "!python predict.py -s 2020-08-01 -e 2020-08-04 -ip ../../../validation/data/2020-09-30_historical_ip.csv -o predictions/2020-08-01_2020-08-04.csv"
   ]
  },
  {
   "cell_type": "code",
   "execution_count": null,
   "metadata": {},
   "outputs": [],
   "source": [
    "!head predictions/2020-08-01_2020-08-04.csv"
   ]
  },
  {
   "cell_type": "markdown",
   "metadata": {},
   "source": [
    "# Test cases\n",
    "We can generate a prediction file. Let's validate a few cases..."
   ]
  },
  {
   "cell_type": "code",
   "execution_count": null,
   "metadata": {},
   "outputs": [],
   "source": [
    "# Check the pediction file is valid\n",
    "import os\n",
    "from covid_xprize.validation.predictor_validation import validate_submission\n",
    "\n",
    "def validate(start_date, end_date, ip_file, output_file):\n",
    "    # First, delete any potential old file\n",
    "    try:\n",
    "        os.remove(output_file)\n",
    "    except OSError:\n",
    "        pass\n",
    "    \n",
    "    # Then generate the prediction, calling the official API\n",
    "    !python predict.py -s {start_date} -e {end_date} -ip {ip_file} -o {output_file}\n",
    "    \n",
    "    # And validate it\n",
    "    errors = validate_submission(start_date, end_date, ip_file, output_file)\n",
    "    if errors:\n",
    "        for error in errors:\n",
    "            print(error)\n",
    "    else:\n",
    "        print(\"All good!\")"
   ]
  },
  {
   "cell_type": "markdown",
   "metadata": {},
   "source": [
    "## 4 days, no gap\n",
    "- All countries and regions\n",
    "- Official number of cases is known up to start_date\n",
    "- Intervention Plans are the official ones"
   ]
  },
  {
   "cell_type": "code",
   "execution_count": null,
   "metadata": {},
   "outputs": [],
   "source": [
    "validate(start_date=\"2020-08-01\",\n",
    "         end_date=\"2020-08-04\",\n",
    "         ip_file=\"../../../validation/data/2020-09-30_historical_ip.csv\",\n",
    "         output_file=\"predictions/val_4_days.csv\")"
   ]
  },
  {
   "cell_type": "markdown",
   "metadata": {},
   "source": [
    "## 1 month in the future\n",
    "- 2 countries only\n",
    "- there's a gap between date of last known number of cases and start_date\n",
    "- For future dates, Intervention Plans contains scenarios for which predictions are requested to answer the question: what will happen if we apply these plans?"
   ]
  },
  {
   "cell_type": "code",
   "execution_count": null,
   "metadata": {},
   "outputs": [],
   "source": [
    "%%time\n",
    "validate(start_date=\"2021-01-01\",\n",
    "         end_date=\"2021-01-31\",\n",
    "         ip_file=\"../../../validation/data/future_ip.csv\",\n",
    "         output_file=\"predictions/val_1_month_future.csv\")"
   ]
  },
  {
   "cell_type": "markdown",
   "metadata": {},
   "source": [
    "## 180 days, from a future date, all countries and regions\n",
    "- Prediction start date is 1 week from now. (i.e. assuming submission date is 1 week from now)  \n",
    "- Prediction end date is 6 months after start date.  \n",
    "- Prediction is requested for all available countries and regions.  \n",
    "- Intervention plan scenario: freeze last known intervention plans for each country and region.  \n",
    "\n",
    "As the number of cases is not known yet between today and start date, but the model relies on them, the model has to predict them in order to use them.  \n",
    "This test is the most demanding test. It should take less than 1 hour to generate the prediction file."
   ]
  },
  {
   "cell_type": "markdown",
   "metadata": {},
   "source": [
    "### Generate the scenario"
   ]
  },
  {
   "cell_type": "code",
   "execution_count": null,
   "metadata": {},
   "outputs": [],
   "source": [
    "from datetime import datetime, timedelta\n",
    "\n",
    "start_date = datetime.now() + timedelta(days=7)\n",
    "start_date_str = start_date.strftime('%Y-%m-%d')\n",
    "end_date = start_date + timedelta(days=180)\n",
    "end_date_str = end_date.strftime('%Y-%m-%d')\n",
    "print(f\"Start date: {start_date_str}\")\n",
    "print(f\"End date: {end_date_str}\")"
   ]
  },
  {
   "cell_type": "code",
   "execution_count": null,
   "metadata": {},
   "outputs": [],
   "source": [
    "from covid_xprize.validation.scenario_generator import get_raw_data, generate_scenario, NPI_COLUMNS\n",
    "DATA_FILE = 'data/OxCGRT_latest.csv'\n",
    "latest_df = get_raw_data(DATA_FILE, latest=True)\n",
    "scenario_df = generate_scenario(start_date_str, end_date_str, latest_df, countries=None, scenario=\"Freeze\")\n",
    "scenario_file = \"predictions/180_days_future_scenario.csv\"\n",
    "scenario_df.to_csv(scenario_file, index=False)\n",
    "print(f\"Saved scenario to {scenario_file}\")"
   ]
  },
  {
   "cell_type": "markdown",
   "metadata": {},
   "source": [
    "### Check it"
   ]
  },
  {
   "cell_type": "code",
   "execution_count": null,
   "metadata": {},
   "outputs": [],
   "source": [
    "%%time\n",
    "validate(start_date=start_date_str,\n",
    "         end_date=end_date_str,\n",
    "         ip_file=scenario_file,\n",
    "         output_file=\"predictions/val_6_month_future.csv\")"
   ]
  },
  {
   "cell_type": "code",
   "execution_count": null,
   "metadata": {},
   "outputs": [],
   "source": []
  }
 ],
 "metadata": {
  "kernelspec": {
   "name": "python3",
   "display_name": "Python 3.7.9 64-bit ('venv')",
   "metadata": {
    "interpreter": {
     "hash": "72aa7907e726e8d04d999f945f887f230d22f05df97d1530ec2e882e4a50e7ee"
    }
   }
  },
  "language_info": {
   "codemirror_mode": {
    "name": "ipython",
    "version": 3
   },
   "file_extension": ".py",
   "mimetype": "text/x-python",
   "name": "python",
   "nbconvert_exporter": "python",
   "pygments_lexer": "ipython3",
   "version": "3.7.9-final"
  },
  "pycharm": {
   "stem_cell": {
    "cell_type": "raw",
    "metadata": {
     "collapsed": false
    },
    "source": [
     "# Copyright 2020 (c) Cognizant Digital Business, Evolutionary AI. All rights reserved. Issued under the Apache 2.0 License."
    ]
   }
  }
 },
 "nbformat": 4,
 "nbformat_minor": 4
}