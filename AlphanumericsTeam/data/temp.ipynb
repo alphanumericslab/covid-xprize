{
 "metadata": {
  "language_info": {
   "codemirror_mode": {
    "name": "ipython",
    "version": 3
   },
   "file_extension": ".py",
   "mimetype": "text/x-python",
   "name": "python",
   "nbconvert_exporter": "python",
   "pygments_lexer": "ipython3",
   "version": "3.7.9-final"
  },
  "orig_nbformat": 2,
  "kernelspec": {
   "name": "python3",
   "display_name": "Python 3.7.9 64-bit ('venv')",
   "metadata": {
    "interpreter": {
     "hash": "72aa7907e726e8d04d999f945f887f230d22f05df97d1530ec2e882e4a50e7ee"
    }
   }
  }
 },
 "nbformat": 4,
 "nbformat_minor": 2,
 "cells": [
  {
   "cell_type": "code",
   "execution_count": null,
   "metadata": {},
   "outputs": [],
   "source": [
    "import os\n",
    "import pandas as pd\n",
    "import numpy as np\n",
    "import argparse\n",
    "import math\n",
    "from pprint import pprint\n",
    "import holidays\n",
    "LATEST_DATA_URL = 'https://raw.githubusercontent.com/OxCGRT/covid-policy-tracker/master/data/OxCGRT_latest.csv'\n",
    "\n",
    "def load_dataset(url):\n",
    "    latest_df = pd.read_csv(url,\n",
    "                            parse_dates=['Date'],\n",
    "                            encoding=\"ISO-8859-1\",\n",
    "                            dtype={\"RegionName\": str,\n",
    "                                   \"RegionCode\": str},\n",
    "                            error_bad_lines=False)\n",
    "    latest_df[\"RegionName\"] = latest_df[\"RegionName\"].fillna(\"\")\n",
    "    return latest_df"
   ]
  },
  {
   "cell_type": "code",
   "execution_count": null,
   "metadata": {},
   "outputs": [],
   "source": [
    "df = load_dataset(LATEST_DATA_URL)\n",
    "df.sample(3)\n",
    "df[df[\"RegionName\"]== \"\"]"
   ]
  },
  {
   "cell_type": "code",
   "execution_count": null,
   "metadata": {},
   "outputs": [],
   "source": [
    "pprint(df.columns)\n",
    "all_country_codes = sorted(list(set( [(x,y) for x,y in  zip(df['CountryCode'].to_list(), df['CountryName'].to_list())])))  \n",
    "##print(len(all_country_codes))\n",
    "#pprint(all_country_codes) \n",
    "with open('country_codes.txt', 'w') as fp:\n",
    "    fp.write('\\n'.join('%s %s' % x for x in all_country_codes))"
   ]
  },
  {
   "cell_type": "code",
   "execution_count": null,
   "metadata": {},
   "outputs": [],
   "source": [
    "region_info = set([(x,y,z,w) for x,y,z,w in zip(df['RegionCode'].to_list(), df['CountryCode'].to_list(), df['CountryName'].to_list(), df['RegionName'].to_list()) if isinstance(x, str)])\n",
    "\n",
    "region_info = sorted(list(region_info))\n",
    "\n",
    "with open('region_codes.txt', 'w') as fp:\n",
    "    fp.write('\\n'.join('%s %s %s %s' % x for x in region_info))"
   ]
  },
  {
   "cell_type": "code",
   "execution_count": null,
   "metadata": {},
   "outputs": [],
   "source": [
    "country_code = \"GBR\"\n",
    "df[(df[\"CountryCode\"]==country_code) & (df[\"Jurisdiction\"]== \"NAT_TOTAL\") & \n",
    "   (pd.Timestamp('2020-01-01')<=df[\"Date\"]) &\n",
    "   (df[\"Date\"]<=pd.Timestamp('2020-03-01'))]   [[\"Date\", \"ConfirmedCases\", \"RegionCode\"]]"
   ]
  },
  {
   "cell_type": "code",
   "execution_count": 47,
   "metadata": {},
   "outputs": [
    {
     "output_type": "stream",
     "name": "stdout",
     "text": [
      "66\n[('ABW', 'Aruba', True),\n ('AGO', 'Angola', True),\n ('ARE', 'United Arab Emirates', False),\n ('ARG', 'Argentina', True),\n ('AUS', 'Australia', True),\n ('AUT', 'Austria', True),\n ('BDI', 'Burundi', True),\n ('BEL', 'Belgium', True),\n ('BGD', 'Bangladesh', False),\n ('BLR', 'Belarus', True),\n ('BRA', 'Brazil', True),\n ('CAN', 'Canada', True),\n ('CHE', 'Switzerland', True),\n ('CHL', 'Chile', True),\n ('COL', 'Colombia', True),\n ('CZE', 'Czech Republic', True),\n ('DEU', 'Germany', True),\n ('DJI', 'Djibouti', False),\n ('DNK', 'Denmark', True),\n ('DOM', 'Dominican Republic', True),\n ('EGY', 'Egypt', False),\n ('ESP', 'Spain', True),\n ('EST', 'Estonia', True),\n ('FIN', 'Finland', True),\n ('FRA', 'France', True),\n ('GBR', 'United Kingdom', True),\n ('GRC', 'Greece', True),\n ('HKG', 'Hong Kong', True),\n ('HND', 'Honduras', True),\n ('HRV', 'Croatia', True),\n ('HUN', 'Hungary', True),\n ('IND', 'India', True),\n ('IRL', 'Ireland', True),\n ('ISL', 'Iceland', True),\n ('ISR', 'Israel', False),\n ('ITA', 'Italy', True),\n ('JPN', 'Japan', False),\n ('KEN', 'Kenya', True),\n ('KOR', 'South Korea', True),\n ('LTU', 'Lithuania', True),\n ('LUX', 'Luxembourg', True),\n ('LVA', 'Latvia', True),\n ('MOR', 'Morocco', False),\n ('MEX', 'Mexico', True),\n ('MWI', 'Malawi', True),\n ('NGA', 'Nigeria', True),\n ('NIC', 'Nicaragua', True),\n ('NLD', 'Netherlands', True),\n ('NOR', 'Norway', True),\n ('NZL', 'New Zealand', True),\n ('PER', 'Peru', True),\n ('POL', 'Poland', True),\n ('PRT', 'Portugal', True),\n ('PRY', 'Paraguay', True),\n ('ROU', 'Romania', True),\n ('RUS', 'Russia', False),\n ('SGP', 'Singapore', True),\n ('SRB', 'Serbia', False),\n ('SVK', 'Slovak Republic', True),\n ('SVN', 'Slovenia', True),\n ('SWE', 'Sweden', True),\n ('TUR', 'Turkey', False),\n ('UKR', 'Ukraine', True),\n ('USA', 'United States', True),\n ('VNM', 'Vietnam', False),\n ('ZAF', 'South Africa', True)]\n"
     ]
    }
   ],
   "source": [
    "true = []\n",
    "for x,y in all_country_codes:\n",
    "    if x in dir(holidays):\n",
    "        if x == \"MAR\":\n",
    "             x = \"MOR\"\n",
    "        f = getattr(holidays, x) \n",
    "        true.append((x, y, \" 12/25/2020\" in f())) \n",
    "\n",
    "print(len(true))\n",
    "pprint(true)\n"
   ]
  },
  {
   "cell_type": "code",
   "execution_count": null,
   "metadata": {},
   "outputs": [],
   "source": []
  },
  {
   "cell_type": "code",
   "execution_count": null,
   "metadata": {},
   "outputs": [],
   "source": [
    "country_code = \"GBR\"\n",
    "df1 = df[(df[\"RegionCode\"]==\"BR_MA\") ]   \n",
    "df2 = df1[(pd.Timestamp('2020-01-01')<=df1[\"Date\"])]   \n",
    "df3 = df2[(df2[\"Date\"]<=pd.Timestamp('2020-03-01'))] \n",
    "df3['Date'] = df3['Date'].apply(lambda x: x.to_pydatetime().strftime(\"%Y%m%d\"))\n",
    "df4 = df3[[\"Date\", \"ConfirmedCases\"]] \n"
   ]
  },
  {
   "cell_type": "code",
   "execution_count": null,
   "metadata": {},
   "outputs": [],
   "source": [
    "df4"
   ]
  },
  {
   "cell_type": "code",
   "execution_count": null,
   "metadata": {},
   "outputs": [],
   "source": [
    "import datetime\n",
    "datetime.date.today().strftime(\"%Y-%m-%d\")"
   ]
  },
  {
   "cell_type": "code",
   "execution_count": null,
   "metadata": {},
   "outputs": [],
   "source": [
    "df4"
   ]
  },
  {
   "cell_type": "code",
   "execution_count": 64,
   "metadata": {},
   "outputs": [],
   "source": [
    "import os\n",
    "import pandas as pd\n",
    "import argparse\n",
    "import datetime\n",
    "import holidays\n",
    "from collections import defaultdict\n",
    "from pprint import pprint\n",
    "from dateutil.parser import parse\n",
    "\n",
    "LATEST_DATA_URL = 'https://raw.githubusercontent.com/OxCGRT/covid-policy-tracker/master/data/OxCGRT_latest.csv'\n",
    "\n",
    "\n",
    "def load_dataset(url):\n",
    "    latest_df = pd.read_csv(url,\n",
    "                            parse_dates=['Date'],\n",
    "                            encoding=\"ISO-8859-1\",\n",
    "                            dtype={\"RegionName\": str,\n",
    "                                   \"RegionCode\": str},\n",
    "                            error_bad_lines=False)\n",
    "    latest_df[\"RegionName\"] = latest_df[\"RegionName\"].fillna(\"\")\n",
    "    return latest_df\n",
    "\n",
    "\n",
    "# get country codes and save to file for reference\n",
    "oxford_df = load_dataset(LATEST_DATA_URL)\n",
    "country_codes = set([(x,y) for x,y in\n",
    "                     zip(oxford_df['CountryCode'].to_list(),\n",
    "                         oxford_df['CountryName'].to_list()\n",
    "                        )])\n",
    "country_codes = sorted(list(country_codes))\n",
    "with open('country_codes.txt', 'w') as fp:\n",
    "    fp.write('\\n'.join('%s %s' % x for x in country_codes))\n",
    "\n",
    "\n",
    "# get region codes and save to file for reference\n",
    "region_codes = set([(x,y,z,w) for x,y,z,w in\n",
    "                   zip(oxford_df['RegionCode'].to_list(),\n",
    "                       oxford_df['CountryCode'].to_list(),\n",
    "                       oxford_df['CountryName'].to_list(),\n",
    "                       oxford_df['RegionName'].to_list()) if isinstance(x, str)])\n",
    "region_codes = sorted(list(region_codes))\n",
    "\n",
    "with open('region_codes.txt', 'w') as fp:\n",
    "    fp.write('\\n'.join('%s %s %s %s' % x for x in region_codes))\n",
    "\n",
    "\n",
    "# Key for weekdays/weekend\n",
    "#  Mon   Tue   Wed   Thu   Fri   Sat   Sun\n",
    "#   0     1     2     3     4     5     6\n",
    "WEEKENDS = defaultdict(lambda : (5,6))\n",
    "WEEKENDS.update({\n",
    "    \"AFG\": (3,4),   # Afghanistan\n",
    "    \"DZA\": (4,5),   # Algeria\n",
    "    \"BHR\": (4,5),   # Bahrain\n",
    "    \"BGD\": (4,5),   # Bangladesh\n",
    "    \"BRN\": (4,6),   # Brunei\n",
    "    \"DJI\": (None,4),    # Djibouti\n",
    "    \"EGY\": (4,5),   # Egypt\n",
    "    \"GIN\": (None,6),    # Eq, Guinea\n",
    "    \"HKG\": (None,6),    #Hong Kong\n",
    "    \"IRN\": (None,4),    # Iran\n",
    "    \"IRQ\": (4,5),   # Iraq\n",
    "    \"ISR\": (4,5),   # Israel\n",
    "    \"JOR\": (4,5),   # Jordan\n",
    "    \"KWT\": (4,5),   # Kuwait\n",
    "    \"LBY\": (4,5),   # Libya\n",
    "    \"NPL\": (None,5),    # Nepal\n",
    "    \"OMN\": (4,5),   # Oman\n",
    "    \"PSE\": (None,4),    # Palestine\n",
    "    \"QAT\": (4,5),   # Qatar\n",
    "    \"SAU\": (4,5),   # Saudi Arabia\n",
    "    \"SOM\": (None,4),    # Somalia\n",
    "    \"SDN\": (4,5),   # Sudan\n",
    "    \"SYR\": (4,5),   # Syria\n",
    "    \"ARE\": (4,5),   # UAE\n",
    "    \"UGA\": (None,6),    # Uganda\n",
    "    \"YEM\": (4,5),   # Yemen\n",
    "    })\n",
    "\n",
    "def holiday_country(country, date): \n",
    "\n",
    "    # the two anomalies in code in holidays w.r.t oxford country codes\n",
    "    # case for morocco and bulgaria\n",
    "    if country == \"MAR\":\n",
    "        country == \"MOR\"\n",
    "    if country == \"BGR\":\n",
    "        country == \"BLG\"\n",
    "\n",
    "    if country in holidays.list_supported_countries(): \n",
    "        func = getattr(holidays, country) \n",
    "        if date in func():\n",
    "            return 2  # return holiday (priority over weekend)\n",
    "          \n",
    "    return int( parse(date).weekday() in WEEKENDS[country])\n",
    "\n",
    "def holiday_region(region, date):\n",
    "    country, reg = region.split(\"_\")\n",
    "\n",
    "    if country == \"BR\":\n",
    "        country == \"BRA\"\n",
    "    elif country == \"US\":\n",
    "        country == \"USA\"\n",
    "    elif country == \"UK\":\n",
    "        country == \"GBR\"\n",
    " \n",
    "    func = getattr(holidays, country)\n",
    "    if date in func(state=reg):  # holiday for the state\n",
    "        return 2  # return holiday (priority over weekend)\n",
    "          \n",
    "    return int( parse(date).weekday() in WEEKENDS[country])  # check for weekend\n",
    "\n",
    "country_code = \"IND\"\n",
    "start_date = \"2020-1-1\"\n",
    "end_date = \"2020-4-1\"\n",
    "country_name = [y for x, y in country_codes if x == country_code][0]\n",
    "region_name = \"nan\"\n",
    "\n",
    "df_final = oxford_df[(oxford_df[\"CountryCode\"]==country_code)]\n",
    "# for three countries with sub-regions look for only the national sum\n",
    "if country_code in [\"USA\", \"GBR\", \"BRA\"]:\n",
    "    df_final = df_final[(df_final[\"Jurisdiction\"]== \"NAT_TOTAL\")]\n",
    "\n",
    "# filter between dates\n",
    "df_final = df_final[(pd.Timestamp(start_date)<=df_final[\"Date\"])]\n",
    "df_final = df_final[(df_final[\"Date\"]<=pd.Timestamp(end_date))]\n",
    " \n",
    "df_final['Date']=df_final['Date'].astype(str)\n",
    "df_final[\"Holidays\"] = df_final.apply( lambda x: holiday_country(x[\"CountryCode\"], x[\"Date\"]), axis=1)\n",
    "\n",
    "# convert date to ordinal like\n",
    "#df_final['Date'] = df_final['Date'].apply(lambda x: x.to_pydatetime().strftime(\"%Y%m%d\"))\n",
    "\n",
    "# Add a column for new cases only\n",
    "df_final['NewCases'] = df_final.ConfirmedCases.diff().fillna(0)\n",
    "\n",
    "# select columns of interest\n",
    "df_final = df_final[[\"Date\", \"ConfirmedCases\", \"NewCases\", \"Holidays\"]]"
   ]
  },
  {
   "cell_type": "code",
   "execution_count": 63,
   "metadata": {},
   "outputs": [
    {
     "output_type": "stream",
     "name": "stdout",
     "text": [
      "             Date  ConfirmedCases  NewCases  Holidays\n37045  2020-01-02             NaN       0.0         0\n37046  2020-01-03             NaN       0.0         0\n37047  2020-01-04             NaN       0.0         1\n37048  2020-01-05             NaN       0.0         1\n37049  2020-01-06             NaN       0.0         0\n37050  2020-01-07             NaN       0.0         0\n37051  2020-01-08             NaN       0.0         0\n37052  2020-01-09             NaN       0.0         0\n37053  2020-01-10             NaN       0.0         0\n37054  2020-01-11             NaN       0.0         1\n37055  2020-01-12             NaN       0.0         1\n37056  2020-01-13             NaN       0.0         0\n37057  2020-01-14             NaN       0.0         2\n37058  2020-01-15             NaN       0.0         0\n37059  2020-01-16             NaN       0.0         0\n37060  2020-01-17             NaN       0.0         0\n37061  2020-01-18             NaN       0.0         1\n37062  2020-01-19             NaN       0.0         1\n37063  2020-01-20             NaN       0.0         0\n37064  2020-01-21             NaN       0.0         0\n37065  2020-01-22             0.0       0.0         0\n37066  2020-01-23             0.0       0.0         0\n37067  2020-01-24             0.0       0.0         0\n37068  2020-01-25             0.0       0.0         1\n37069  2020-01-26             0.0       0.0         2\n37070  2020-01-27             0.0       0.0         0\n37071  2020-01-28             0.0       0.0         0\n37072  2020-01-29             0.0       0.0         0\n37073  2020-01-30             1.0       1.0         0\n"
     ]
    }
   ],
   "source": [
    "print(df_final[1:30])\n"
   ]
  },
  {
   "cell_type": "code",
   "execution_count": null,
   "metadata": {},
   "outputs": [],
   "source": []
  },
  {
   "cell_type": "code",
   "execution_count": 11,
   "metadata": {},
   "outputs": [
    {
     "output_type": "stream",
     "name": "stdout",
     "text": [
      "[<class 'holidays.countries.aruba.ABW'>,\n <class 'holidays.countries.angola.AGO'>,\n <class 'holidays.countries.united_arab_emirates.ARE'>,\n <class 'holidays.countries.argentina.ARG'>,\n <class 'holidays.countries.australia.AUS'>,\n <class 'holidays.countries.austria.AUT'>,\n <class 'holidays.countries.burundi.BDI'>,\n <class 'holidays.countries.belgium.BEL'>,\n <class 'holidays.countries.bangladesh.BGD'>,\n <class 'holidays.countries.bulgaria.BLG'>,\n <class 'holidays.countries.belarus.BLR'>,\n <class 'holidays.countries.brazil.BRA'>,\n <class 'holidays.countries.canada.CAN'>,\n <class 'holidays.countries.switzerland.CHE'>,\n <class 'holidays.countries.chile.CHL'>,\n <class 'holidays.countries.colombia.COL'>,\n <class 'holidays.countries.czechia.CZE'>,\n <class 'holidays.countries.germany.DEU'>,\n <class 'holidays.countries.djibouti.DJI'>,\n <class 'holidays.countries.denmark.DNK'>,\n <class 'holidays.countries.dominican_republic.DOM'>,\n <class 'holidays.countries.european_central_bank.ECB'>,\n <class 'holidays.countries.egypt.EGY'>,\n <class 'holidays.countries.spain.ESP'>,\n <class 'holidays.countries.estonia.EST'>,\n <class 'holidays.countries.finland.FIN'>,\n <class 'holidays.countries.france.FRA'>,\n <class 'holidays.countries.united_kingdom.GBR'>,\n <class 'holidays.countries.greece.GRC'>,\n <class 'holidays.countries.hongkong.HKG'>,\n <class 'holidays.countries.honduras.HND'>,\n <class 'holidays.countries.croatia.HRV'>,\n <class 'holidays.countries.hungary.HUN'>,\n <class 'holidays.countries.india.IND'>,\n <class 'holidays.countries.ireland.IRL'>,\n <class 'holidays.countries.iceland.ISL'>,\n <class 'holidays.countries.israel.ISR'>,\n <class 'holidays.countries.italy.ITA'>,\n <class 'holidays.countries.japan.JPN'>,\n <class 'holidays.countries.kenya.KEN'>,\n <class 'holidays.countries.korea.KOR'>,\n <class 'holidays.countries.lithuania.LTU'>,\n <class 'holidays.countries.luxembourg.LUX'>,\n <class 'holidays.countries.latvia.LVA'>,\n <class 'holidays.countries.mexico.MEX'>,\n <class 'holidays.countries.morocco.MOR'>,\n <class 'holidays.countries.malawi.MWI'>,\n <class 'holidays.countries.nigeria.NGA'>,\n <class 'holidays.countries.nicaragua.NIC'>,\n <class 'holidays.countries.netherlands.NLD'>,\n <class 'holidays.countries.norway.NOR'>,\n <class 'holidays.countries.new_zealand.NZL'>,\n <class 'holidays.countries.peru.PER'>,\n <class 'holidays.countries.poland.POL'>,\n <class 'holidays.countries.portugal.PRT'>,\n <class 'holidays.countries.paraguay.PRY'>,\n <class 'holidays.countries.portugal.PTE'>,\n <class 'holidays.countries.romania.ROU'>,\n <class 'holidays.countries.russia.RUS'>,\n <class 'holidays.countries.singapore.SGP'>,\n <class 'holidays.countries.serbia.SRB'>,\n <class 'holidays.countries.slovakia.SVK'>,\n <class 'holidays.countries.slovenia.SVN'>,\n <class 'holidays.countries.sweden.SWE'>,\n <class 'holidays.countries.european_central_bank.TAR'>,\n <class 'holidays.countries.turkey.TUR'>,\n <class 'holidays.countries.ukraine.UKR'>,\n <class 'holidays.countries.united_states.USA'>,\n <class 'holidays.countries.vietnam.VNM'>,\n <class 'holidays.countries.south_africa.ZAF'>]\n"
     ]
    }
   ],
   "source": [
    "pprint([getattr(holidays, x) for x in holidays.list_supported_countries() if len(x) == 3])"
   ]
  },
  {
   "cell_type": "code",
   "execution_count": null,
   "metadata": {},
   "outputs": [],
   "source": []
  }
 ]
}